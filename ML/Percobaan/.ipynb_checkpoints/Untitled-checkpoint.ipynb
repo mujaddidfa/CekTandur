{
 "cells": [
  {
   "cell_type": "code",
   "execution_count": 2,
   "id": "b7e0fc54-615d-45ae-9aca-0fdc489ca3d0",
   "metadata": {},
   "outputs": [
    {
     "name": "stderr",
     "output_type": "stream",
     "text": [
      "2024-11-26 20:15:30.580290: I tensorflow/core/util/port.cc:153] oneDNN custom operations are on. You may see slightly different numerical results due to floating-point round-off errors from different computation orders. To turn them off, set the environment variable `TF_ENABLE_ONEDNN_OPTS=0`.\n",
      "2024-11-26 20:15:30.716947: E external/local_xla/xla/stream_executor/cuda/cuda_fft.cc:477] Unable to register cuFFT factory: Attempting to register factory for plugin cuFFT when one has already been registered\n",
      "WARNING: All log messages before absl::InitializeLog() is called are written to STDERR\n",
      "E0000 00:00:1732626930.778008    5509 cuda_dnn.cc:8310] Unable to register cuDNN factory: Attempting to register factory for plugin cuDNN when one has already been registered\n",
      "E0000 00:00:1732626930.794538    5509 cuda_blas.cc:1418] Unable to register cuBLAS factory: Attempting to register factory for plugin cuBLAS when one has already been registered\n",
      "2024-11-26 20:15:30.927123: I tensorflow/core/platform/cpu_feature_guard.cc:210] This TensorFlow binary is optimized to use available CPU instructions in performance-critical operations.\n",
      "To enable the following instructions: AVX2 AVX512F AVX512_VNNI FMA, in other operations, rebuild TensorFlow with the appropriate compiler flags.\n"
     ]
    }
   ],
   "source": [
    "import tensorflow as tf\n",
    "from tensorflow.keras import Input  # Pastikan Input diimpor\n",
    "from tensorflow.keras.preprocessing.image import ImageDataGenerator\n",
    "from tensorflow.keras.models import Sequential\n",
    "from tensorflow.keras.layers import Conv2D, MaxPooling2D, Flatten, Dense, Dropout\n",
    "from tensorflow.keras.callbacks import EarlyStopping"
   ]
  },
  {
   "cell_type": "code",
   "execution_count": 3,
   "id": "996aacc3-8dea-4665-aead-1738c53b04f2",
   "metadata": {},
   "outputs": [],
   "source": [
    "from tensorflow.keras.applications import ResNet50\n",
    "from tensorflow.keras.layers import GlobalAveragePooling2D, Dense, Dropout\n",
    "from tensorflow.keras.models import Model"
   ]
  },
  {
   "cell_type": "code",
   "execution_count": 1,
   "id": "74e0e98c-741b-4846-a071-45eb46327c21",
   "metadata": {},
   "outputs": [
    {
     "name": "stdout",
     "output_type": "stream",
     "text": [
      "File berhasil diekstrak!\n"
     ]
    }
   ],
   "source": [
    "import zipfile\n",
    "\n",
    "# Path ke file zip yang ingin diekstrak\n",
    "zip_path = 'data.zip'\n",
    "\n",
    "# Path direktori tujuan untuk hasil ekstraksi\n",
    "extract_to_path = 'extracted_data/'\n",
    "\n",
    "# Ekstrak file zip\n",
    "with zipfile.ZipFile(zip_path, 'r') as zip_ref:\n",
    "    zip_ref.extractall(extract_to_path)\n",
    "\n",
    "print(\"File berhasil diekstrak!\")"
   ]
  },
  {
   "cell_type": "code",
   "execution_count": 4,
   "id": "65c19c61-dbc7-45b1-986e-07d832bc9b40",
   "metadata": {},
   "outputs": [],
   "source": [
    "# Path ke folder dataset\n",
    "train_dir = 'extracted_data/Data Penyakit/train'\n",
    "validation_dir = 'extracted_data/Data Penyakit/valid'"
   ]
  },
  {
   "cell_type": "code",
   "execution_count": 5,
   "id": "a25fc211-55de-4f59-bb9c-d2515b324014",
   "metadata": {},
   "outputs": [],
   "source": [
    "validation_datagen = ImageDataGenerator(rescale=1.0/255)"
   ]
  },
  {
   "cell_type": "code",
   "execution_count": 6,
   "id": "7896337f-f825-4e75-aa9a-565038463e18",
   "metadata": {},
   "outputs": [],
   "source": [
    "# Preprocessing data menggunakan ImageDataGenerator\n",
    "train_datagen = ImageDataGenerator(\n",
    "    rescale=1.0/255,\n",
    "    rotation_range=20,\n",
    "    width_shift_range=0.2,\n",
    "    height_shift_range=0.2,\n",
    "    shear_range=0.2,\n",
    "    zoom_range=0.2,\n",
    "    horizontal_flip=True\n",
    ")"
   ]
  },
  {
   "cell_type": "code",
   "execution_count": 7,
   "id": "266e3961-a445-4e2c-96f0-f02fdce63cbb",
   "metadata": {
    "scrolled": true
   },
   "outputs": [
    {
     "name": "stdout",
     "output_type": "stream",
     "text": [
      "Found 70295 images belonging to 38 classes.\n",
      "Found 17572 images belonging to 38 classes.\n"
     ]
    }
   ],
   "source": [
    "# Membuat generator untuk data training dan validasi\n",
    "train_generator = train_datagen.flow_from_directory(\n",
    "    train_dir,\n",
    "    target_size=(128, 128),  # Sesuaikan dengan ukuran input yang diinginkan\n",
    "    batch_size=32,\n",
    "    class_mode='categorical'\n",
    ")\n",
    "\n",
    "validation_generator = validation_datagen.flow_from_directory(\n",
    "    validation_dir,\n",
    "    target_size=(128, 128),\n",
    "    batch_size=32,\n",
    "    class_mode='categorical'\n",
    ")"
   ]
  },
  {
   "cell_type": "code",
   "execution_count": 8,
   "id": "c1666c3a-186c-4909-823d-b1f6a594fc4f",
   "metadata": {},
   "outputs": [
    {
     "name": "stdout",
     "output_type": "stream",
     "text": [
      "Nama-nama kelas: ['Apple___Apple_scab', 'Apple___Black_rot', 'Apple___Cedar_apple_rust', 'Apple___healthy', 'Blueberry___healthy', 'Cherry_(including_sour)___Powdery_mildew', 'Cherry_(including_sour)___healthy', 'Corn_(maize)___Cercospora_leaf_spot Gray_leaf_spot', 'Corn_(maize)___Common_rust_', 'Corn_(maize)___Northern_Leaf_Blight', 'Corn_(maize)___healthy', 'Grape___Black_rot', 'Grape___Esca_(Black_Measles)', 'Grape___Leaf_blight_(Isariopsis_Leaf_Spot)', 'Grape___healthy', 'Orange___Haunglongbing_(Citrus_greening)', 'Peach___Bacterial_spot', 'Peach___healthy', 'Pepper,_bell___Bacterial_spot', 'Pepper,_bell___healthy', 'Potato___Early_blight', 'Potato___Late_blight', 'Potato___healthy', 'Raspberry___healthy', 'Soybean___healthy', 'Squash___Powdery_mildew', 'Strawberry___Leaf_scorch', 'Strawberry___healthy', 'Tomato___Bacterial_spot', 'Tomato___Early_blight', 'Tomato___Late_blight', 'Tomato___Leaf_Mold', 'Tomato___Septoria_leaf_spot', 'Tomato___Spider_mites Two-spotted_spider_mite', 'Tomato___Target_Spot', 'Tomato___Tomato_Yellow_Leaf_Curl_Virus', 'Tomato___Tomato_mosaic_virus', 'Tomato___healthy']\n"
     ]
    }
   ],
   "source": [
    "# Mendapatkan nama-nama kelas\n",
    "class_names = list(train_generator.class_indices.keys())\n",
    "print(\"Nama-nama kelas:\", class_names)\n"
   ]
  },
  {
   "cell_type": "code",
   "execution_count": 9,
   "id": "96ebe470-8b31-4144-878b-c66bdab3caf0",
   "metadata": {},
   "outputs": [
    {
     "name": "stderr",
     "output_type": "stream",
     "text": [
      "I0000 00:00:1732627029.635104    5509 gpu_device.cc:2022] Created device /job:localhost/replica:0/task:0/device:GPU:0 with 2159 MB memory:  -> device: 0, name: NVIDIA GeForce RTX 3050 Laptop GPU, pci bus id: 0000:01:00.0, compute capability: 8.6\n"
     ]
    }
   ],
   "source": [
    "# Memuat model ResNet50 pre-trained tanpa top layer (include_top=False)\n",
    "base_model = ResNet50(weights='imagenet', include_top=False, input_shape=(128, 128, 3))\n"
   ]
  },
  {
   "cell_type": "code",
   "execution_count": 10,
   "id": "570d6d4f-7ca5-4b26-bc2c-5f7b45407beb",
   "metadata": {},
   "outputs": [],
   "source": [
    "# Membekukan semua layer dari base model\n",
    "for layer in base_model.layers:\n",
    "    layer.trainable = False\n"
   ]
  },
  {
   "cell_type": "code",
   "execution_count": 11,
   "id": "10dc7429-c6b4-407b-ab01-6110fece11c7",
   "metadata": {},
   "outputs": [],
   "source": [
    "# Menambahkan lapisan kustom\n",
    "x = base_model.output\n",
    "x = GlobalAveragePooling2D()(x)  # Menambahkan global average pooling layer\n",
    "x = Dense(1024, activation='relu')(x)  # Lapisan dense kustom\n",
    "x = Dropout(0.5)(x)  # Dropout untuk regularisasi\n",
    "predictions = Dense(train_generator.num_classes, activation='softmax')(x)  # Jumlah kelas sesuai dataset Anda"
   ]
  },
  {
   "cell_type": "code",
   "execution_count": 12,
   "id": "c03f5666-d651-417a-b7d6-1281f2423da9",
   "metadata": {},
   "outputs": [],
   "source": [
    "# Membuat model akhir\n",
    "model = Model(inputs=base_model.input, outputs=predictions)"
   ]
  },
  {
   "cell_type": "code",
   "execution_count": 13,
   "id": "04d64930-b0e6-49ef-a10f-b11e63b57e99",
   "metadata": {},
   "outputs": [],
   "source": [
    "# Menyusun ulang model dengan lapisan yang di-unfreeze\n",
    "model.compile(optimizer=tf.keras.optimizers.Adam(learning_rate=0.0020), \n",
    "              loss='categorical_crossentropy', metrics=['accuracy'])"
   ]
  },
  {
   "cell_type": "code",
   "execution_count": 14,
   "id": "a7cc8b0d-fc84-4051-b2b7-7912bd58302f",
   "metadata": {},
   "outputs": [],
   "source": [
    "# Callback EarlyStopping untuk menghentikan training jika akurasi validasi tidak meningkat\n",
    "early_stopping = EarlyStopping(\n",
    "    monitor='val_accuracy', \n",
    "    patience=3, \n",
    "    mode='max',\n",
    "    verbose=1,\n",
    "    restore_best_weights=True\n",
    ")"
   ]
  },
  {
   "cell_type": "code",
   "execution_count": 14,
   "id": "b4c27bc0-30fe-4091-9dba-8ceb91573278",
   "metadata": {},
   "outputs": [
    {
     "name": "stderr",
     "output_type": "stream",
     "text": [
      "/home/wan/anaconda3/envs/tf2/lib/python3.12/site-packages/keras/src/trainers/data_adapters/py_dataset_adapter.py:121: UserWarning: Your `PyDataset` class should call `super().__init__(**kwargs)` in its constructor. `**kwargs` can include `workers`, `use_multiprocessing`, `max_queue_size`. Do not pass these arguments to `fit()`, as they will be ignored.\n",
      "  self._warn_if_super_not_called()\n"
     ]
    },
    {
     "name": "stdout",
     "output_type": "stream",
     "text": [
      "Epoch 1/50\n"
     ]
    },
    {
     "name": "stderr",
     "output_type": "stream",
     "text": [
      "WARNING: All log messages before absl::InitializeLog() is called are written to STDERR\n",
      "I0000 00:00:1732102835.151200    5046 service.cc:148] XLA service 0x7f20b4015120 initialized for platform CUDA (this does not guarantee that XLA will be used). Devices:\n",
      "I0000 00:00:1732102835.151409    5046 service.cc:156]   StreamExecutor device (0): NVIDIA GeForce RTX 3050 Laptop GPU, Compute Capability 8.6\n",
      "2024-11-20 18:40:35.350595: I tensorflow/compiler/mlir/tensorflow/utils/dump_mlir_util.cc:268] disabling MLIR crash reproducer, set env var `MLIR_CRASH_REPRODUCER_DIRECTORY` to enable.\n",
      "I0000 00:00:1732102836.213297    5046 cuda_dnn.cc:529] Loaded cuDNN version 90300\n",
      "2024-11-20 18:40:37.531732: I external/local_xla/xla/stream_executor/cuda/cuda_asm_compiler.cc:397] ptxas warning : Registers are spilled to local memory in function 'gemm_fusion_dot_5679_0', 112 bytes spill stores, 224 bytes spill loads\n",
      "\n",
      "2024-11-20 18:40:37.992234: I external/local_xla/xla/stream_executor/cuda/cuda_asm_compiler.cc:397] ptxas warning : Registers are spilled to local memory in function 'gemm_fusion_dot_5679_0', 164 bytes spill stores, 380 bytes spill loads\n",
      "\n",
      "2024-11-20 18:40:38.138293: I external/local_xla/xla/stream_executor/cuda/cuda_asm_compiler.cc:397] ptxas warning : Registers are spilled to local memory in function 'gemm_fusion_dot_5679', 192 bytes spill stores, 512 bytes spill loads\n",
      "\n",
      "2024-11-20 18:40:38.861947: I external/local_xla/xla/stream_executor/cuda/cuda_asm_compiler.cc:397] ptxas warning : Registers are spilled to local memory in function 'gemm_fusion_dot_6230', 28 bytes spill stores, 28 bytes spill loads\n",
      "\n",
      "2024-11-20 18:40:39.056174: I external/local_xla/xla/stream_executor/cuda/cuda_asm_compiler.cc:397] ptxas warning : Registers are spilled to local memory in function 'gemm_fusion_dot_6267', 24 bytes spill stores, 28 bytes spill loads\n",
      "\n",
      "2024-11-20 18:40:39.480455: I external/local_xla/xla/stream_executor/cuda/cuda_asm_compiler.cc:397] ptxas warning : Registers are spilled to local memory in function 'gemm_fusion_dot_6267', 24 bytes spill stores, 24 bytes spill loads\n",
      "\n",
      "2024-11-20 18:40:39.560210: I external/local_xla/xla/stream_executor/cuda/cuda_asm_compiler.cc:397] ptxas warning : Registers are spilled to local memory in function 'gemm_fusion_dot_6267', 24 bytes spill stores, 28 bytes spill loads\n",
      "\n"
     ]
    },
    {
     "name": "stdout",
     "output_type": "stream",
     "text": [
      "\u001b[1m   3/2197\u001b[0m \u001b[37m━━━━━━━━━━━━━━━━━━━━\u001b[0m \u001b[1m2:35\u001b[0m 71ms/step - accuracy: 0.0122 - loss: 4.1219     "
     ]
    },
    {
     "name": "stderr",
     "output_type": "stream",
     "text": [
      "I0000 00:00:1732102843.084990    5046 device_compiler.h:188] Compiled cluster using XLA!  This line is logged at most once for the lifetime of the process.\n"
     ]
    },
    {
     "name": "stdout",
     "output_type": "stream",
     "text": [
      "\u001b[1m1306/2197\u001b[0m \u001b[32m━━━━━━━━━━━\u001b[0m\u001b[37m━━━━━━━━━\u001b[0m \u001b[1m1:38\u001b[0m 111ms/step - accuracy: 0.0443 - loss: 3.5906"
     ]
    },
    {
     "name": "stderr",
     "output_type": "stream",
     "text": [
      "2024-11-20 18:43:10.301160: I external/local_xla/xla/stream_executor/cuda/cuda_asm_compiler.cc:397] ptxas warning : Registers are spilled to local memory in function 'gemm_fusion_dot_5679', 16 bytes spill stores, 16 bytes spill loads\n",
      "\n",
      "2024-11-20 18:43:10.367743: I external/local_xla/xla/stream_executor/cuda/cuda_asm_compiler.cc:397] ptxas warning : Registers are spilled to local memory in function 'gemm_fusion_dot_5679', 88 bytes spill stores, 88 bytes spill loads\n",
      "\n",
      "2024-11-20 18:43:10.699960: I external/local_xla/xla/stream_executor/cuda/cuda_asm_compiler.cc:397] ptxas warning : Registers are spilled to local memory in function 'gemm_fusion_dot_6267', 32 bytes spill stores, 32 bytes spill loads\n",
      "\n",
      "2024-11-20 18:43:11.921867: I external/local_xla/xla/stream_executor/cuda/cuda_asm_compiler.cc:397] ptxas warning : Registers are spilled to local memory in function 'gemm_fusion_dot_5679_0', 640 bytes spill stores, 1004 bytes spill loads\n",
      "\n",
      "2024-11-20 18:43:12.120022: I external/local_xla/xla/stream_executor/cuda/cuda_asm_compiler.cc:397] ptxas warning : Registers are spilled to local memory in function 'gemm_fusion_dot_6267', 24 bytes spill stores, 24 bytes spill loads\n",
      "\n",
      "2024-11-20 18:43:12.841957: I external/local_xla/xla/stream_executor/cuda/cuda_asm_compiler.cc:397] ptxas warning : Registers are spilled to local memory in function 'gemm_fusion_dot_6230', 36 bytes spill stores, 36 bytes spill loads\n",
      "\n",
      "2024-11-20 18:43:12.853964: I external/local_xla/xla/stream_executor/cuda/cuda_asm_compiler.cc:397] ptxas warning : Registers are spilled to local memory in function 'gemm_fusion_dot_6267', 32 bytes spill stores, 32 bytes spill loads\n",
      "\n"
     ]
    },
    {
     "name": "stdout",
     "output_type": "stream",
     "text": [
      "\u001b[1m2197/2197\u001b[0m \u001b[32m━━━━━━━━━━━━━━━━━━━━\u001b[0m\u001b[37m\u001b[0m \u001b[1m0s\u001b[0m 113ms/step - accuracy: 0.0489 - loss: 3.5438"
     ]
    },
    {
     "name": "stderr",
     "output_type": "stream",
     "text": [
      "/home/wan/anaconda3/envs/tf2/lib/python3.12/site-packages/keras/src/trainers/data_adapters/py_dataset_adapter.py:121: UserWarning: Your `PyDataset` class should call `super().__init__(**kwargs)` in its constructor. `**kwargs` can include `workers`, `use_multiprocessing`, `max_queue_size`. Do not pass these arguments to `fit()`, as they will be ignored.\n",
      "  self._warn_if_super_not_called()\n",
      "2024-11-20 18:44:55.419813: I external/local_xla/xla/stream_executor/cuda/cuda_asm_compiler.cc:397] ptxas warning : Registers are spilled to local memory in function 'gemm_fusion_dot_1717', 100 bytes spill stores, 100 bytes spill loads\n",
      "\n",
      "2024-11-20 18:44:55.434488: I external/local_xla/xla/stream_executor/cuda/cuda_asm_compiler.cc:397] ptxas warning : Registers are spilled to local memory in function 'gemm_fusion_dot_1717', 4 bytes spill stores, 4 bytes spill loads\n",
      "\n",
      "2024-11-20 18:44:55.515958: I external/local_xla/xla/stream_executor/cuda/cuda_asm_compiler.cc:397] ptxas warning : Registers are spilled to local memory in function 'gemm_fusion_dot_1717', 444 bytes spill stores, 444 bytes spill loads\n",
      "\n",
      "2024-11-20 18:45:20.466897: I external/local_xla/xla/stream_executor/cuda/cuda_asm_compiler.cc:397] ptxas warning : Registers are spilled to local memory in function 'gemm_fusion_dot_1710_0', 8 bytes spill stores, 8 bytes spill loads\n",
      "\n"
     ]
    },
    {
     "name": "stdout",
     "output_type": "stream",
     "text": [
      "\u001b[1m2197/2197\u001b[0m \u001b[32m━━━━━━━━━━━━━━━━━━━━\u001b[0m\u001b[37m\u001b[0m \u001b[1m294s\u001b[0m 128ms/step - accuracy: 0.0489 - loss: 3.5438 - val_accuracy: 0.0987 - val_loss: 3.3048\n",
      "Epoch 2/50\n",
      "\u001b[1m2197/2197\u001b[0m \u001b[32m━━━━━━━━━━━━━━━━━━━━\u001b[0m\u001b[37m\u001b[0m \u001b[1m268s\u001b[0m 122ms/step - accuracy: 0.0893 - loss: 3.3188 - val_accuracy: 0.1217 - val_loss: 3.2365\n",
      "Epoch 3/50\n",
      "\u001b[1m2197/2197\u001b[0m \u001b[32m━━━━━━━━━━━━━━━━━━━━\u001b[0m\u001b[37m\u001b[0m \u001b[1m255s\u001b[0m 116ms/step - accuracy: 0.1074 - loss: 3.2252 - val_accuracy: 0.1465 - val_loss: 3.0338\n",
      "Epoch 4/50\n",
      "\u001b[1m2197/2197\u001b[0m \u001b[32m━━━━━━━━━━━━━━━━━━━━\u001b[0m\u001b[37m\u001b[0m \u001b[1m261s\u001b[0m 119ms/step - accuracy: 0.1242 - loss: 3.1598 - val_accuracy: 0.1920 - val_loss: 2.8921\n",
      "Epoch 5/50\n",
      "\u001b[1m2197/2197\u001b[0m \u001b[32m━━━━━━━━━━━━━━━━━━━━\u001b[0m\u001b[37m\u001b[0m \u001b[1m275s\u001b[0m 125ms/step - accuracy: 0.1354 - loss: 3.1004 - val_accuracy: 0.1821 - val_loss: 2.9207\n",
      "Epoch 6/50\n",
      "\u001b[1m2197/2197\u001b[0m \u001b[32m━━━━━━━━━━━━━━━━━━━━\u001b[0m\u001b[37m\u001b[0m \u001b[1m274s\u001b[0m 125ms/step - accuracy: 0.1432 - loss: 3.0687 - val_accuracy: 0.1689 - val_loss: 3.0041\n",
      "Epoch 7/50\n",
      "\u001b[1m2197/2197\u001b[0m \u001b[32m━━━━━━━━━━━━━━━━━━━━\u001b[0m\u001b[37m\u001b[0m \u001b[1m281s\u001b[0m 128ms/step - accuracy: 0.1462 - loss: 3.0500 - val_accuracy: 0.2013 - val_loss: 2.8503\n",
      "Epoch 8/50\n",
      "\u001b[1m2197/2197\u001b[0m \u001b[32m━━━━━━━━━━━━━━━━━━━━\u001b[0m\u001b[37m\u001b[0m \u001b[1m285s\u001b[0m 129ms/step - accuracy: 0.1558 - loss: 3.0128 - val_accuracy: 0.2073 - val_loss: 2.8480\n",
      "Epoch 9/50\n",
      "\u001b[1m2197/2197\u001b[0m \u001b[32m━━━━━━━━━━━━━━━━━━━━\u001b[0m\u001b[37m\u001b[0m \u001b[1m280s\u001b[0m 127ms/step - accuracy: 0.1530 - loss: 3.0086 - val_accuracy: 0.2008 - val_loss: 2.7781\n",
      "Epoch 10/50\n",
      "\u001b[1m2197/2197\u001b[0m \u001b[32m━━━━━━━━━━━━━━━━━━━━\u001b[0m\u001b[37m\u001b[0m \u001b[1m270s\u001b[0m 123ms/step - accuracy: 0.1590 - loss: 2.9909 - val_accuracy: 0.1824 - val_loss: 2.9234\n",
      "Epoch 11/50\n",
      "\u001b[1m2197/2197\u001b[0m \u001b[32m━━━━━━━━━━━━━━━━━━━━\u001b[0m\u001b[37m\u001b[0m \u001b[1m251s\u001b[0m 114ms/step - accuracy: 0.1622 - loss: 2.9789 - val_accuracy: 0.2274 - val_loss: 2.7128\n",
      "Epoch 12/50\n",
      "\u001b[1m2197/2197\u001b[0m \u001b[32m━━━━━━━━━━━━━━━━━━━━\u001b[0m\u001b[37m\u001b[0m \u001b[1m265s\u001b[0m 121ms/step - accuracy: 0.1666 - loss: 2.9631 - val_accuracy: 0.2181 - val_loss: 2.7653\n",
      "Epoch 13/50\n",
      "\u001b[1m2197/2197\u001b[0m \u001b[32m━━━━━━━━━━━━━━━━━━━━\u001b[0m\u001b[37m\u001b[0m \u001b[1m271s\u001b[0m 123ms/step - accuracy: 0.1642 - loss: 2.9614 - val_accuracy: 0.2324 - val_loss: 2.7022\n",
      "Epoch 14/50\n",
      "\u001b[1m2197/2197\u001b[0m \u001b[32m━━━━━━━━━━━━━━━━━━━━\u001b[0m\u001b[37m\u001b[0m \u001b[1m248s\u001b[0m 113ms/step - accuracy: 0.1680 - loss: 2.9510 - val_accuracy: 0.2050 - val_loss: 2.8221\n",
      "Epoch 15/50\n",
      "\u001b[1m2197/2197\u001b[0m \u001b[32m━━━━━━━━━━━━━━━━━━━━\u001b[0m\u001b[37m\u001b[0m \u001b[1m227s\u001b[0m 103ms/step - accuracy: 0.1653 - loss: 2.9422 - val_accuracy: 0.2433 - val_loss: 2.6627\n",
      "Epoch 16/50\n",
      "\u001b[1m2197/2197\u001b[0m \u001b[32m━━━━━━━━━━━━━━━━━━━━\u001b[0m\u001b[37m\u001b[0m \u001b[1m225s\u001b[0m 102ms/step - accuracy: 0.1747 - loss: 2.9296 - val_accuracy: 0.2763 - val_loss: 2.5952\n",
      "Epoch 17/50\n",
      "\u001b[1m2197/2197\u001b[0m \u001b[32m━━━━━━━━━━━━━━━━━━━━\u001b[0m\u001b[37m\u001b[0m \u001b[1m249s\u001b[0m 113ms/step - accuracy: 0.1775 - loss: 2.9081 - val_accuracy: 0.2315 - val_loss: 2.7156\n",
      "Epoch 18/50\n",
      "\u001b[1m2197/2197\u001b[0m \u001b[32m━━━━━━━━━━━━━━━━━━━━\u001b[0m\u001b[37m\u001b[0m \u001b[1m241s\u001b[0m 109ms/step - accuracy: 0.1778 - loss: 2.9187 - val_accuracy: 0.2142 - val_loss: 2.7588\n",
      "Epoch 19/50\n",
      "\u001b[1m2197/2197\u001b[0m \u001b[32m━━━━━━━━━━━━━━━━━━━━\u001b[0m\u001b[37m\u001b[0m \u001b[1m244s\u001b[0m 111ms/step - accuracy: 0.1776 - loss: 2.9082 - val_accuracy: 0.2500 - val_loss: 2.6519\n",
      "Epoch 19: early stopping\n",
      "Restoring model weights from the end of the best epoch: 16.\n"
     ]
    }
   ],
   "source": [
    "# Melatih model\n",
    "history = model.fit(\n",
    "    train_generator,\n",
    "    validation_data=validation_generator,\n",
    "    epochs=50,\n",
    "    callbacks=[early_stopping]  # Callback EarlyStopping\n",
    ")"
   ]
  },
  {
   "cell_type": "code",
   "execution_count": null,
   "id": "3d57e222-fa8f-461f-ab3f-56f017b3550e",
   "metadata": {},
   "outputs": [],
   "source": [
    "# Meng-unfreeze beberapa lapisan terakhir dari ResNet50 untuk fine-tuning\n",
    "for layer in base_model.layers[-10:]:  # Meng-unfreeze 10 lapisan terakhir\n",
    "    layer.trainable = True"
   ]
  },
  {
   "cell_type": "code",
   "execution_count": null,
   "id": "b0eda458-603c-4cf4-8e68-1bd743e041f2",
   "metadata": {},
   "outputs": [],
   "source": [
    "# Menyusun ulang model dengan lapisan yang di-unfreeze\n",
    "model.compile(optimizer=tf.keras.optimizers.Adam(learning_rate=0.0002), \n",
    "              loss='categorical_crossentropy', metrics=['accuracy'])"
   ]
  },
  {
   "cell_type": "code",
   "execution_count": null,
   "id": "412f816c-d473-45a0-9a62-2a6be38680e3",
   "metadata": {},
   "outputs": [],
   "source": [
    "# Melakukan fine-tuning\n",
    "history_fine_tuning = model.fit(\n",
    "    train_generator,\n",
    "    validation_data=validation_generator,\n",
    "    epochs=50,\n",
    "    callbacks=[early_stopping]  # Gunakan EarlyStopping lagi jika perlu\n",
    ")\n"
   ]
  },
  {
   "cell_type": "code",
   "execution_count": null,
   "id": "1c026684-b2fb-4acd-b5b4-7290e71cb1ad",
   "metadata": {},
   "outputs": [],
   "source": [
    "val_loss, val_accuracy = model.evaluate(validation_generator)\n",
    "print(f\"Validation Loss: {val_loss}\")\n",
    "print(f\"Validation Accuracy: {val_accuracy}\")\n"
   ]
  },
  {
   "cell_type": "code",
   "execution_count": null,
   "id": "5881fdc2-0acd-4ac1-8af3-5393520d51ae",
   "metadata": {},
   "outputs": [],
   "source": [
    "# Membangun model CNN\n",
    "model = Sequential([\n",
    "    Input(shape=(128, 128, 3)),  # Tentukan bentuk input di sini\n",
    "    Conv2D(64, (3, 3), activation='relu'),\n",
    "    MaxPooling2D(2, 2),\n",
    "    Conv2D(128, (3, 3), activation='relu'),\n",
    "    MaxPooling2D(2, 2),\n",
    "    Conv2D(256, (3, 3), activation='relu'),\n",
    "    MaxPooling2D(2, 2),\n",
    "    Flatten(),\n",
    "    Dense(256, activation='relu'),\n",
    "    Dropout(0.5),\n",
    "    Dense(train_generator.num_classes, activation='softmax')  # Jumlah kelas sesuai dataset\n",
    "])"
   ]
  },
  {
   "cell_type": "code",
   "execution_count": null,
   "id": "19f8e5b9-3e1f-46b2-b1c6-7bb5d06c5c0f",
   "metadata": {},
   "outputs": [],
   "source": [
    "# Compile model\n",
    "model.compile(optimizer='adam', loss='categorical_crossentropy', metrics=['accuracy'])"
   ]
  },
  {
   "cell_type": "code",
   "execution_count": null,
   "id": "9b45c5ab-79ae-424d-a185-04451062c9a6",
   "metadata": {},
   "outputs": [],
   "source": [
    "# Modifikasi pelatihan model dengan EarlyStopping callback\n",
    "history = model.fit(\n",
    "    train_generator,\n",
    "    validation_data=validation_generator,\n",
    "    epochs=50,\n",
    "    callbacks=[early_stopping]\n",
    ")"
   ]
  },
  {
   "cell_type": "code",
   "execution_count": null,
   "id": "1cf3a7ea-aa3d-4a5d-ac3f-07a3279b1e02",
   "metadata": {},
   "outputs": [],
   "source": [
    "import matplotlib.pyplot as plt\n",
    "\n",
    "# Plot akurasi\n",
    "plt.plot(history.history['accuracy'], label='Training Accuracy')\n",
    "plt.plot(history.history['val_accuracy'], label='Validation Accuracy')\n",
    "plt.xlabel('Epoch')\n",
    "plt.ylabel('Accuracy')\n",
    "plt.title('Training and Validation Accuracy')\n",
    "plt.legend()\n",
    "plt.grid()\n",
    "plt.show()\n"
   ]
  },
  {
   "cell_type": "code",
   "execution_count": null,
   "id": "8785230b-4a2a-44ea-964c-19a7e03e9373",
   "metadata": {},
   "outputs": [],
   "source": [
    "# Simpan model\n",
    "model.save('/content/image_classification_model.h5')"
   ]
  },
  {
   "cell_type": "code",
   "execution_count": null,
   "id": "ec9536e9-0e1f-4779-956f-d9c9c409dc84",
   "metadata": {},
   "outputs": [],
   "source": [
    "import os\n",
    "import numpy as np\n",
    "from tensorflow.keras.preprocessing.image import load_img, img_to_array\n",
    "import tensorflow as tf\n",
    "\n",
    "# Path ke direktori test\n",
    "test_dir = '/content/test/test'\n",
    "\n",
    "# Load model\n",
    "model = tf.keras.models.load_model('image_classification_model.h5')\n",
    "\n",
    "# Mendapatkan label kelas dari model\n",
    "class_indices = train_generator.class_indices  # Mengambil mapping dari train_generator\n",
    "class_labels = {v: k for k, v in class_indices.items()}  # Membalik mapping menjadi indeks ke nama kelas\n",
    "\n",
    "# Menyiapkan gambar untuk prediksi\n",
    "def preprocess_image(image_path, target_size=(128, 128)):\n",
    "    img = load_img(image_path, target_size=target_size)  # Load gambar\n",
    "    img_array = img_to_array(img)  # Konversi ke array\n",
    "    img_array = np.expand_dims(img_array, axis=0)  # Tambahkan dimensi batch\n",
    "    img_array = img_array / 255.0  # Rescale\n",
    "    return img_array\n",
    "\n",
    "# Melakukan prediksi untuk setiap gambar\n",
    "for file_name in os.listdir(test_dir):\n",
    "    file_path = os.path.join(test_dir, file_name)\n",
    "    if os.path.isfile(file_path):\n",
    "        # Preprocessing gambar\n",
    "        img_array = preprocess_image(file_path)\n",
    "\n",
    "        # Prediksi\n",
    "        prediction = model.predict(img_array)\n",
    "        predicted_class = np.argmax(prediction, axis=1)[0]\n",
    "        predicted_label = class_labels[predicted_class]\n",
    "\n",
    "        # Tampilkan hasil\n",
    "        print(f\"Gambar: {file_name}\")\n",
    "        print(f\"  Prediksi: {predicted_label}\")\n",
    "        print(f\"  Probabilitas: {prediction[0][predicted_class]:.2f}\")\n",
    "        print(\"----\")\n"
   ]
  },
  {
   "cell_type": "code",
   "execution_count": null,
   "id": "db48e2bf-c076-4571-a0a6-b9ba46d9bf3f",
   "metadata": {},
   "outputs": [],
   "source": []
  }
 ],
 "metadata": {
  "kernelspec": {
   "display_name": "Python 3 (ipykernel)",
   "language": "python",
   "name": "python3"
  },
  "language_info": {
   "codemirror_mode": {
    "name": "ipython",
    "version": 3
   },
   "file_extension": ".py",
   "mimetype": "text/x-python",
   "name": "python",
   "nbconvert_exporter": "python",
   "pygments_lexer": "ipython3",
   "version": "3.12.2"
  }
 },
 "nbformat": 4,
 "nbformat_minor": 5
}
