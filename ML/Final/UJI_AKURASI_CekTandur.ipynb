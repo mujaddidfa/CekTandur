{
 "cells": [
  {
   "cell_type": "code",
   "execution_count": 1,
   "metadata": {
    "colab": {
     "base_uri": "https://localhost:8080/"
    },
    "id": "JrJRvuvplyTj",
    "outputId": "ddfb66e0-203c-4950-8ec0-f17766e569a6"
   },
   "outputs": [
    {
     "name": "stdout",
     "output_type": "stream",
     "text": [
      "Requirement already satisfied: tensorflow in c:\\users\\y u d h a\\anaconda3\\envs\\cektandur\\lib\\site-packages (2.18.0)\n",
      "Requirement already satisfied: tensorflow-intel==2.18.0 in c:\\users\\y u d h a\\anaconda3\\envs\\cektandur\\lib\\site-packages (from tensorflow) (2.18.0)\n",
      "Requirement already satisfied: absl-py>=1.0.0 in c:\\users\\y u d h a\\anaconda3\\envs\\cektandur\\lib\\site-packages (from tensorflow-intel==2.18.0->tensorflow) (2.1.0)\n",
      "Requirement already satisfied: astunparse>=1.6.0 in c:\\users\\y u d h a\\anaconda3\\envs\\cektandur\\lib\\site-packages (from tensorflow-intel==2.18.0->tensorflow) (1.6.3)\n",
      "Requirement already satisfied: flatbuffers>=24.3.25 in c:\\users\\y u d h a\\anaconda3\\envs\\cektandur\\lib\\site-packages (from tensorflow-intel==2.18.0->tensorflow) (24.3.25)\n",
      "Requirement already satisfied: gast!=0.5.0,!=0.5.1,!=0.5.2,>=0.2.1 in c:\\users\\y u d h a\\anaconda3\\envs\\cektandur\\lib\\site-packages (from tensorflow-intel==2.18.0->tensorflow) (0.6.0)\n",
      "Requirement already satisfied: google-pasta>=0.1.1 in c:\\users\\y u d h a\\anaconda3\\envs\\cektandur\\lib\\site-packages (from tensorflow-intel==2.18.0->tensorflow) (0.2.0)\n",
      "Requirement already satisfied: libclang>=13.0.0 in c:\\users\\y u d h a\\anaconda3\\envs\\cektandur\\lib\\site-packages (from tensorflow-intel==2.18.0->tensorflow) (18.1.1)\n",
      "Requirement already satisfied: opt-einsum>=2.3.2 in c:\\users\\y u d h a\\anaconda3\\envs\\cektandur\\lib\\site-packages (from tensorflow-intel==2.18.0->tensorflow) (3.4.0)\n",
      "Requirement already satisfied: packaging in c:\\users\\y u d h a\\appdata\\roaming\\python\\python312\\site-packages (from tensorflow-intel==2.18.0->tensorflow) (24.1)\n",
      "Requirement already satisfied: protobuf!=4.21.0,!=4.21.1,!=4.21.2,!=4.21.3,!=4.21.4,!=4.21.5,<6.0.0dev,>=3.20.3 in c:\\users\\y u d h a\\anaconda3\\envs\\cektandur\\lib\\site-packages (from tensorflow-intel==2.18.0->tensorflow) (5.28.3)\n",
      "Requirement already satisfied: requests<3,>=2.21.0 in c:\\users\\y u d h a\\anaconda3\\envs\\cektandur\\lib\\site-packages (from tensorflow-intel==2.18.0->tensorflow) (2.32.3)\n",
      "Requirement already satisfied: setuptools in c:\\users\\y u d h a\\anaconda3\\envs\\cektandur\\lib\\site-packages (from tensorflow-intel==2.18.0->tensorflow) (75.1.0)\n",
      "Requirement already satisfied: six>=1.12.0 in c:\\users\\y u d h a\\appdata\\roaming\\python\\python312\\site-packages (from tensorflow-intel==2.18.0->tensorflow) (1.16.0)\n",
      "Requirement already satisfied: termcolor>=1.1.0 in c:\\users\\y u d h a\\anaconda3\\envs\\cektandur\\lib\\site-packages (from tensorflow-intel==2.18.0->tensorflow) (2.5.0)\n",
      "Requirement already satisfied: typing-extensions>=3.6.6 in c:\\users\\y u d h a\\anaconda3\\envs\\cektandur\\lib\\site-packages (from tensorflow-intel==2.18.0->tensorflow) (4.11.0)\n",
      "Requirement already satisfied: wrapt>=1.11.0 in c:\\users\\y u d h a\\anaconda3\\envs\\cektandur\\lib\\site-packages (from tensorflow-intel==2.18.0->tensorflow) (1.17.0)\n",
      "Requirement already satisfied: grpcio<2.0,>=1.24.3 in c:\\users\\y u d h a\\anaconda3\\envs\\cektandur\\lib\\site-packages (from tensorflow-intel==2.18.0->tensorflow) (1.68.0)\n",
      "Requirement already satisfied: tensorboard<2.19,>=2.18 in c:\\users\\y u d h a\\anaconda3\\envs\\cektandur\\lib\\site-packages (from tensorflow-intel==2.18.0->tensorflow) (2.18.0)\n",
      "Requirement already satisfied: keras>=3.5.0 in c:\\users\\y u d h a\\anaconda3\\envs\\cektandur\\lib\\site-packages (from tensorflow-intel==2.18.0->tensorflow) (3.7.0)\n",
      "Requirement already satisfied: numpy<2.1.0,>=1.26.0 in c:\\users\\y u d h a\\anaconda3\\envs\\cektandur\\lib\\site-packages (from tensorflow-intel==2.18.0->tensorflow) (2.0.2)\n",
      "Requirement already satisfied: h5py>=3.11.0 in c:\\users\\y u d h a\\anaconda3\\envs\\cektandur\\lib\\site-packages (from tensorflow-intel==2.18.0->tensorflow) (3.12.1)\n",
      "Requirement already satisfied: ml-dtypes<0.5.0,>=0.4.0 in c:\\users\\y u d h a\\anaconda3\\envs\\cektandur\\lib\\site-packages (from tensorflow-intel==2.18.0->tensorflow) (0.4.1)\n",
      "Requirement already satisfied: wheel<1.0,>=0.23.0 in c:\\users\\y u d h a\\anaconda3\\envs\\cektandur\\lib\\site-packages (from astunparse>=1.6.0->tensorflow-intel==2.18.0->tensorflow) (0.44.0)\n",
      "Requirement already satisfied: rich in c:\\users\\y u d h a\\anaconda3\\envs\\cektandur\\lib\\site-packages (from keras>=3.5.0->tensorflow-intel==2.18.0->tensorflow) (13.9.4)\n",
      "Requirement already satisfied: namex in c:\\users\\y u d h a\\anaconda3\\envs\\cektandur\\lib\\site-packages (from keras>=3.5.0->tensorflow-intel==2.18.0->tensorflow) (0.0.8)\n",
      "Requirement already satisfied: optree in c:\\users\\y u d h a\\anaconda3\\envs\\cektandur\\lib\\site-packages (from keras>=3.5.0->tensorflow-intel==2.18.0->tensorflow) (0.13.1)\n",
      "Requirement already satisfied: charset-normalizer<4,>=2 in c:\\users\\y u d h a\\anaconda3\\envs\\cektandur\\lib\\site-packages (from requests<3,>=2.21.0->tensorflow-intel==2.18.0->tensorflow) (3.3.2)\n",
      "Requirement already satisfied: idna<4,>=2.5 in c:\\users\\y u d h a\\anaconda3\\envs\\cektandur\\lib\\site-packages (from requests<3,>=2.21.0->tensorflow-intel==2.18.0->tensorflow) (3.7)\n",
      "Requirement already satisfied: urllib3<3,>=1.21.1 in c:\\users\\y u d h a\\anaconda3\\envs\\cektandur\\lib\\site-packages (from requests<3,>=2.21.0->tensorflow-intel==2.18.0->tensorflow) (2.2.3)\n",
      "Requirement already satisfied: certifi>=2017.4.17 in c:\\users\\y u d h a\\anaconda3\\envs\\cektandur\\lib\\site-packages (from requests<3,>=2.21.0->tensorflow-intel==2.18.0->tensorflow) (2024.8.30)\n",
      "Requirement already satisfied: markdown>=2.6.8 in c:\\users\\y u d h a\\anaconda3\\envs\\cektandur\\lib\\site-packages (from tensorboard<2.19,>=2.18->tensorflow-intel==2.18.0->tensorflow) (3.7)\n",
      "Requirement already satisfied: tensorboard-data-server<0.8.0,>=0.7.0 in c:\\users\\y u d h a\\anaconda3\\envs\\cektandur\\lib\\site-packages (from tensorboard<2.19,>=2.18->tensorflow-intel==2.18.0->tensorflow) (0.7.2)\n",
      "Requirement already satisfied: werkzeug>=1.0.1 in c:\\users\\y u d h a\\anaconda3\\envs\\cektandur\\lib\\site-packages (from tensorboard<2.19,>=2.18->tensorflow-intel==2.18.0->tensorflow) (3.1.3)\n",
      "Requirement already satisfied: MarkupSafe>=2.1.1 in c:\\users\\y u d h a\\anaconda3\\envs\\cektandur\\lib\\site-packages (from werkzeug>=1.0.1->tensorboard<2.19,>=2.18->tensorflow-intel==2.18.0->tensorflow) (2.1.3)\n",
      "Requirement already satisfied: markdown-it-py>=2.2.0 in c:\\users\\y u d h a\\anaconda3\\envs\\cektandur\\lib\\site-packages (from rich->keras>=3.5.0->tensorflow-intel==2.18.0->tensorflow) (3.0.0)\n",
      "Requirement already satisfied: pygments<3.0.0,>=2.13.0 in c:\\users\\y u d h a\\appdata\\roaming\\python\\python312\\site-packages (from rich->keras>=3.5.0->tensorflow-intel==2.18.0->tensorflow) (2.18.0)\n",
      "Requirement already satisfied: mdurl~=0.1 in c:\\users\\y u d h a\\anaconda3\\envs\\cektandur\\lib\\site-packages (from markdown-it-py>=2.2.0->rich->keras>=3.5.0->tensorflow-intel==2.18.0->tensorflow) (0.1.2)\n"
     ]
    }
   ],
   "source": [
    "!pip install tensorflow"
   ]
  },
  {
   "cell_type": "code",
   "execution_count": 2,
   "metadata": {
    "id": "bcmYgWifmALT"
   },
   "outputs": [],
   "source": [
    "import numpy as np\n",
    "import tensorflow as tf\n",
    "from tensorflow.keras.utils import load_img, img_to_array"
   ]
  },
  {
   "cell_type": "markdown",
   "metadata": {
    "id": "fhY30yLNpibW"
   },
   "source": [
    "#### Struktur ####\n",
    "\n",
    "- **/sample_data**  \n",
    "  *Folder untuk menyimpan data sampel.*\n",
    "\n",
    "- **/test**  \n",
    "  *Folder untuk menyimpan gambar pengujian.*\n",
    "  - `kentang.JPG`\n",
    "  - File lainnya...\n",
    "\n",
    "- **cek_tandur.tflite**  \n",
    "  *Model TensorFlow Lite untuk prediksi.*\n",
    "\n"
   ]
  },
  {
   "cell_type": "code",
   "execution_count": 14,
   "metadata": {
    "id": "7w8vO2JakdoO"
   },
   "outputs": [],
   "source": [
    "# Fungsi untuk memuat dan memproses gambar\n",
    "def preprocess_image(image_path, target_size=(128, 128)):\n",
    "    \"\"\"\n",
    "    Memproses gambar menjadi format yang sesuai untuk model TFLite.\n",
    "    \"\"\"\n",
    "    img = load_img(image_path, target_size=target_size)  # Load gambar dengan ukuran tertentu\n",
    "    img_array = img_to_array(img)  # Konversi ke array\n",
    "    img_array = np.expand_dims(img_array, axis=0)  # Tambahkan dimensi batch\n",
    "    img_array = img_array / 255.0  # Normalisasi nilai piksel (0-1)\n",
    "    img_array = img_array / 127.5 - 1.0  # Normalisasi antara -1 dan 1\n",
    "    return img_array\n",
    "\n",
    "# Fungsi untuk memuat model dan melakukan prediksi\n",
    "def predict_with_tflite(model_path, image_path, target_size=(128, 128), labels=None):\n",
    "    \"\"\"\n",
    "    Memuat model TFLite dan melakukan prediksi pada gambar yang diberikan.\n",
    "    \"\"\"\n",
    "    # Memuat model TFLite\n",
    "    interpreter = tf.lite.Interpreter(model_path=model_path)\n",
    "    interpreter.allocate_tensors()\n",
    "\n",
    "    # detail input dan output model\n",
    "    input_details = interpreter.get_input_details()\n",
    "    output_details = interpreter.get_output_details()\n",
    "\n",
    "    # Memproses gambar\n",
    "    input_data = preprocess_image(image_path, target_size) ## INI DIT MUNGKIN ########################################\n",
    "\n",
    "    # format data input sesuai kebutuhan model\n",
    "    input_index = input_details[0]['index']\n",
    "    interpreter.set_tensor(input_index, input_data)\n",
    "\n",
    "    # inferensi\n",
    "    interpreter.invoke()\n",
    "\n",
    "    # hasil prediksi\n",
    "    output_index = output_details[0]['index']\n",
    "    predictions = interpreter.get_tensor(output_index)\n",
    "     \n",
    "\n",
    "    # hasil\n",
    "    if labels:\n",
    "        predicted_label = labels[np.argmax(predictions)]\n",
    "        print(f\"Hasil Prediksi: {predicted_label} (Confidence: {np.max(predictions):.2f})\")\n",
    "        print(predicted_label)\n",
    "    else:\n",
    "        ##print(f\"Hasil Prediksi (Confidence per kelas): {predictions}\")\n",
    "        print({predicted_label})\n",
    "\n",
    "    return predictions\n",
    "    print(predictions)\n"
   ]
  },
  {
   "cell_type": "code",
   "execution_count": 15,
   "metadata": {
    "colab": {
     "base_uri": "https://localhost:8080/"
    },
    "id": "oEGJ-tKk0n1s",
    "outputId": "b02bf6bf-6d38-4582-c0fe-e67668b962b2"
   },
   "outputs": [
    {
     "name": "stdout",
     "output_type": "stream",
     "text": [
      "Hasil Prediksi: TomatBusuk_daun_telat (Confidence: 1.00)\n",
      "TomatBusuk_daun_telat\n"
     ]
    }
   ],
   "source": [
    "# Main program\n",
    "if __name__ == \"__main__\":\n",
    "    # Path ke model dan gambar\n",
    "    model_path = \"Final_CekTandur.tflite\"\n",
    "    image_path = \"ClearDataset/test/PotatoHealthy2.JPG\" ## GANTI - GANTI AJA SESUAI DATA  (test)\n",
    "\n",
    "    # Label kelas ID\n",
    "    labels = [\n",
    "        ## 'Class1', 'Class2', 'Class3', 'Class4', 'Class5', 'Class6', 'Class7', 'Class8', 'Class9', 'Class10', 'Class11', 'Class12', 'Class13', 'Class14', 'Class15', 'Class16', 'Class17', 'Class18', 'Class19', 'Class20', 'Class21', 'Class22', 'Class23', 'Class24', 'Class25'\n",
    "        'Anggur_Bercak_daun_isariopsis', 'AnggurEsca(campak_hitam)', 'AnggurHitam_busuk', 'AnggurSehat', 'ApelBusuk_hitam', 'ApelKarat_apel_cedar', 'ApelKeropeng_apel', 'ApelSehat', 'JagungBercak_daun_abu-abu', 'JagungBusuk_daun', 'JagungKarat_umum', 'JagungSehat', 'KentangBusuk_daun_dini', 'KentangBusuk_daun_telat', 'KentangSehat', 'TomatBercak_bakteri', 'TomatBercak_daun', 'TomatBercak_target', 'TomatBusuk_daun_dini', 'TomatBusuk_daun_telat', 'TomatDaun_keriting_kuning', 'TomatJamur_septoria_lycopersici', 'TomatSehat', 'TomatTungau_laba-laba_Berbintik', 'Tomat_Virus_mosaik_tomat'\n",
    "      ]\n",
    "\n",
    "    # prediksi\n",
    "    hasil = predict_with_tflite(model_path, image_path, labels=labels)"
   ]
  },
  {
   "cell_type": "code",
   "execution_count": 5,
   "metadata": {
    "colab": {
     "base_uri": "https://localhost:8080/"
    },
    "id": "nkoCEC3WqkcV",
    "outputId": "3f46b375-eb60-48c9-8309-044189914267"
   },
   "outputs": [
    {
     "data": {
      "text/plain": [
       "array([[6.09604337e-37, 1.12257234e-23, 1.23454305e-37, 3.06200529e-18,\n",
       "        1.45288200e-13, 1.47722154e-15, 5.41637800e-20, 3.41085496e-07,\n",
       "        5.83788863e-31, 1.97283404e-27, 3.49505804e-30, 2.48953172e-21,\n",
       "        4.86658202e-25, 3.44877393e-09, 9.99999642e-01, 4.23132269e-25,\n",
       "        4.04626376e-12, 3.44183422e-13, 2.17948904e-15, 2.44807299e-12,\n",
       "        7.71799216e-18, 3.92128444e-17, 4.82274539e-14, 4.82819784e-09,\n",
       "        4.45066516e-14]], dtype=float32)"
      ]
     },
     "execution_count": 5,
     "metadata": {},
     "output_type": "execute_result"
    }
   ],
   "source": [
    "hasil"
   ]
  },
  {
   "cell_type": "code",
   "execution_count": 6,
   "metadata": {
    "colab": {
     "base_uri": "https://localhost:8080/"
    },
    "id": "t-glmlIQqrOx",
    "outputId": "08816051-2176-4265-ad8a-2e32dd7a30cc"
   },
   "outputs": [
    {
     "name": "stdout",
     "output_type": "stream",
     "text": [
      "[[6.09604337e-37 1.12257234e-23 1.23454305e-37 3.06200529e-18\n",
      "  1.45288200e-13 1.47722154e-15 5.41637800e-20 3.41085496e-07\n",
      "  5.83788863e-31 1.97283404e-27 3.49505804e-30 2.48953172e-21\n",
      "  4.86658202e-25 3.44877393e-09 9.99999642e-01 4.23132269e-25\n",
      "  4.04626376e-12 3.44183422e-13 2.17948904e-15 2.44807299e-12\n",
      "  7.71799216e-18 3.92128444e-17 4.82274539e-14 4.82819784e-09\n",
      "  4.45066516e-14]]\n"
     ]
    }
   ],
   "source": [
    "print(hasil)"
   ]
  },
  {
   "cell_type": "code",
   "execution_count": 7,
   "metadata": {
    "colab": {
     "base_uri": "https://localhost:8080/"
    },
    "id": "m0cI5sAkrrn8",
    "outputId": "f2394c8f-8d27-4877-fbf7-d43e5c7b4768"
   },
   "outputs": [
    {
     "name": "stdout",
     "output_type": "stream",
     "text": [
      "KentangSehat\n"
     ]
    }
   ],
   "source": [
    "SendtoAPI = labels[np.argmax(hasil)]\n",
    "ID = str(SendtoAPI)\n",
    "print(ID)"
   ]
  },
  {
   "cell_type": "code",
   "execution_count": 8,
   "metadata": {
    "colab": {
     "base_uri": "https://localhost:8080/",
     "height": 35
    },
    "id": "hTsLxb-Yswqx",
    "outputId": "58edec97-39c5-4eda-c40c-ae704411c79b"
   },
   "outputs": [
    {
     "data": {
      "text/plain": [
       "'KentangSehat'"
      ]
     },
     "execution_count": 8,
     "metadata": {},
     "output_type": "execute_result"
    }
   ],
   "source": [
    "ID"
   ]
  },
  {
   "cell_type": "markdown",
   "metadata": {
    "id": "NNLY2HpTUS8O"
   },
   "source": [
    "DEAR MD gunakan ID kesimpulan dari MODEL untuk request Output dari API"
   ]
  },
  {
   "cell_type": "code",
   "execution_count": null,
   "metadata": {},
   "outputs": [],
   "source": []
  }
 ],
 "metadata": {
  "colab": {
   "provenance": []
  },
  "kernelspec": {
   "display_name": "Python 3 (ipykernel)",
   "language": "python",
   "name": "python3"
  },
  "language_info": {
   "codemirror_mode": {
    "name": "ipython",
    "version": 3
   },
   "file_extension": ".py",
   "mimetype": "text/x-python",
   "name": "python",
   "nbconvert_exporter": "python",
   "pygments_lexer": "ipython3",
   "version": "3.12.7"
  }
 },
 "nbformat": 4,
 "nbformat_minor": 4
}
