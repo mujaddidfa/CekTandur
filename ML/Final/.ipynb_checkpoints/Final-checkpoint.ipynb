{
 "cells": [
  {
   "cell_type": "markdown",
   "metadata": {
    "jp-MarkdownHeadingCollapsed": true
   },
   "source": [
    "# PROJECT CAPSTONE CEKTANDUR #\n",
    "# Klasifikasi Penyakit Tanaman denngan metode CNN #\n",
    "## Anggota : ##\n",
    "1. (ML) M179B4KY4558 – Yudha Wahyu Saputra – Universitas Ahmad Dahlan - [Active]\n",
    "2. (ML) M179B4KY0551 – Angger Tirta Tetalen Mukti – Universitas Ahmad Dahlan - [Active]\n",
    "3. (ML) M492B4KY2014 – Irwandika Malik Fadduani – Universitas Muhammadiyah Yogyakarta - [Active]\n",
    "4. (CC)  C179B4KY2876 – Muhammad Hanan Rafi Hadi Prayogo – Universitas Ahmad Dahlan - [Active]\n",
    "5. (CC)  C179B4KY3219 – Naelul Muna Alin Syarif – Universitas Ahmad Dahlan - [Active]\n",
    "6. (MD) A179B4KY3143 – Mujaddid Fathi Atho'illah – Universitas Ahmad Dahlan - [Active]\n",
    "7. (MD) A179B4KY3709 – Rayhan Akbar Hidayat – Universitas Ahmad Dahlan - [Active]"
   ]
  },
  {
   "cell_type": "markdown",
   "metadata": {
    "id": "AVnzCZlkbRLJ"
   },
   "source": [
    "# SOURCE DATASET DARI KAGKLE #\n",
    "## LINK : ##\n",
    "### https://www.kaggle.com/datasets/vipoooool/new-plant-diseases-dataset ###"
   ]
  },
  {
   "cell_type": "markdown",
   "metadata": {},
   "source": [
    "### 1. Import Library yang di butuhkan dalam lingkup Proyek ###"
   ]
  },
  {
   "cell_type": "code",
   "execution_count": 1,
   "metadata": {
    "executionInfo": {
     "elapsed": 2024,
     "status": "ok",
     "timestamp": 1731841992435,
     "user": {
      "displayName": "gerii",
      "userId": "05968055790999459693"
     },
     "user_tz": -420
    },
    "id": "QhOT8z3OaqsL"
   },
   "outputs": [
    {
     "name": "stderr",
     "output_type": "stream",
     "text": [
      "2024-12-01 19:54:17.200690: I tensorflow/core/util/port.cc:153] oneDNN custom operations are on. You may see slightly different numerical results due to floating-point round-off errors from different computation orders. To turn them off, set the environment variable `TF_ENABLE_ONEDNN_OPTS=0`.\n",
      "2024-12-01 19:54:17.339892: E external/local_xla/xla/stream_executor/cuda/cuda_fft.cc:477] Unable to register cuFFT factory: Attempting to register factory for plugin cuFFT when one has already been registered\n",
      "WARNING: All log messages before absl::InitializeLog() is called are written to STDERR\n",
      "E0000 00:00:1733057657.401283    6327 cuda_dnn.cc:8310] Unable to register cuDNN factory: Attempting to register factory for plugin cuDNN when one has already been registered\n",
      "E0000 00:00:1733057657.417338    6327 cuda_blas.cc:1418] Unable to register cuBLAS factory: Attempting to register factory for plugin cuBLAS when one has already been registered\n",
      "2024-12-01 19:54:17.553690: I tensorflow/core/platform/cpu_feature_guard.cc:210] This TensorFlow binary is optimized to use available CPU instructions in performance-critical operations.\n",
      "To enable the following instructions: AVX2 AVX512F AVX512_VNNI FMA, in other operations, rebuild TensorFlow with the appropriate compiler flags.\n"
     ]
    }
   ],
   "source": [
    "import tensorflow as tf\n",
    "from tensorflow.keras.preprocessing.image import ImageDataGenerator\n",
    "from tensorflow.keras.models import Sequential\n",
    "from tensorflow.keras.layers import Conv2D, MaxPooling2D, Flatten, Dense, Dropout\n",
    "from tensorflow.keras.callbacks import EarlyStopping\n",
    "from tensorflow.keras.models import load_model"
   ]
  },
  {
   "cell_type": "markdown",
   "metadata": {},
   "source": [
    "### 2. Inisialisasi dan Preprosesing Data ###"
   ]
  },
  {
   "cell_type": "code",
   "execution_count": 2,
   "metadata": {
    "executionInfo": {
     "elapsed": 769,
     "status": "ok",
     "timestamp": 1731842125222,
     "user": {
      "displayName": "gerii",
      "userId": "05968055790999459693"
     },
     "user_tz": -420
    },
    "id": "euwG9Nda1gpx"
   },
   "outputs": [],
   "source": [
    "train_dir = 'ClearDataset/tandur_data/train'\n",
    "validation_dir = 'ClearDataset/tandur_data/valid'"
   ]
  },
  {
   "cell_type": "code",
   "execution_count": 3,
   "metadata": {
    "executionInfo": {
     "elapsed": 1565,
     "status": "ok",
     "timestamp": 1731842144986,
     "user": {
      "displayName": "gerii",
      "userId": "05968055790999459693"
     },
     "user_tz": -420
    },
    "id": "yfNkJHiR2dFr"
   },
   "outputs": [],
   "source": [
    "validation_datagen = ImageDataGenerator(rescale=1.0/255)"
   ]
  },
  {
   "cell_type": "code",
   "execution_count": 4,
   "metadata": {
    "executionInfo": {
     "elapsed": 6,
     "status": "ok",
     "timestamp": 1731842129105,
     "user": {
      "displayName": "gerii",
      "userId": "05968055790999459693"
     },
     "user_tz": -420
    },
    "id": "qKWJGmB62ZEo"
   },
   "outputs": [],
   "source": [
    "train_datagen = ImageDataGenerator(\n",
    "    rescale=1.0/255,\n",
    "    rotation_range=20,\n",
    "    width_shift_range=0.2,\n",
    "    height_shift_range=0.2,\n",
    "    shear_range=0.2,\n",
    "    zoom_range=0.2,\n",
    "    horizontal_flip=True\n",
    ")"
   ]
  },
  {
   "cell_type": "code",
   "execution_count": 5,
   "metadata": {
    "colab": {
     "base_uri": "https://localhost:8080/"
    },
    "executionInfo": {
     "elapsed": 4110,
     "status": "ok",
     "timestamp": 1731842151280,
     "user": {
      "displayName": "gerii",
      "userId": "05968055790999459693"
     },
     "user_tz": -420
    },
    "id": "LQbhy4Qd2llb",
    "outputId": "cc82f8e1-3dfa-41a8-acd7-6448d25ced8a"
   },
   "outputs": [
    {
     "name": "stdout",
     "output_type": "stream",
     "text": [
      "Found 46357 images belonging to 25 classes.\n",
      "Found 11588 images belonging to 25 classes.\n"
     ]
    }
   ],
   "source": [
    "train_generator = train_datagen.flow_from_directory(\n",
    "    train_dir,\n",
    "    target_size=(128, 128),  \n",
    "    batch_size=32,\n",
    "    class_mode='categorical'\n",
    ")\n",
    "\n",
    "validation_generator = validation_datagen.flow_from_directory(\n",
    "    validation_dir,\n",
    "    target_size=(128, 128),\n",
    "    batch_size=32,\n",
    "    class_mode='categorical'\n",
    ")"
   ]
  },
  {
   "cell_type": "code",
   "execution_count": 6,
   "metadata": {
    "colab": {
     "base_uri": "https://localhost:8080/",
     "height": 176
    },
    "executionInfo": {
     "elapsed": 1255,
     "status": "error",
     "timestamp": 1731842134757,
     "user": {
      "displayName": "gerii",
      "userId": "05968055790999459693"
     },
     "user_tz": -420
    },
    "id": "amUydAIlaWWF",
    "outputId": "8ecd9d2e-4d51-4a15-927f-4299d5ce65b1"
   },
   "outputs": [
    {
     "name": "stdout",
     "output_type": "stream",
     "text": [
      "Nama-nama kelas: ['Anggur__Bercak_daun_isariopsis', 'Anggur__Esca(campak_hitam)', 'Anggur__Hitam_busuk', 'Anggur__Sehat', 'Apel__Busuk_hitam', 'Apel__Karat_apel_cedar', 'Apel__Keropeng_apel', 'Apel__Sehat', 'Jagung__Bercak_daun_abu-abu', 'Jagung__Busuk_daun', 'Jagung__Karat_umum', 'Jagung__Sehat', 'Kentang__Busuk_daun_dini', 'Kentang__Busuk_daun_telat', 'Kentang__Sehat', 'Tomat__Bercak_bakteri', 'Tomat__Bercak_daun', 'Tomat__Bercak_target', 'Tomat__Busuk_daun_dini', 'Tomat__Busuk_daun_telat', 'Tomat__Daun_keriting_kuning', 'Tomat__Jamur_septoria_lycopersici', 'Tomat__Sehat', 'Tomat__Tungau_laba-laba_Berbintik', 'Tomat__Virus_mosaik_tomat']\n"
     ]
    }
   ],
   "source": [
    "class_names = list(train_generator.class_indices.keys())\n",
    "print(\"Nama-nama kelas:\", class_names)\n"
   ]
  },
  {
   "cell_type": "markdown",
   "metadata": {},
   "source": [
    "### 3. Membangun Model CNN dengan Conv2D hingga 512 ###"
   ]
  },
  {
   "cell_type": "code",
   "execution_count": 7,
   "metadata": {
    "colab": {
     "base_uri": "https://localhost:8080/"
    },
    "executionInfo": {
     "elapsed": 1597,
     "status": "ok",
     "timestamp": 1731842155648,
     "user": {
      "displayName": "gerii",
      "userId": "05968055790999459693"
     },
     "user_tz": -420
    },
    "id": "-EgCbW712uio",
    "outputId": "d9a1aac2-c44b-46bb-c6dd-de8552502bd6"
   },
   "outputs": [
    {
     "name": "stderr",
     "output_type": "stream",
     "text": [
      "/home/wan/anaconda3/envs/tf2/lib/python3.12/site-packages/keras/src/layers/convolutional/base_conv.py:107: UserWarning: Do not pass an `input_shape`/`input_dim` argument to a layer. When using Sequential models, prefer using an `Input(shape)` object as the first layer in the model instead.\n",
      "  super().__init__(activity_regularizer=activity_regularizer, **kwargs)\n",
      "I0000 00:00:1733057726.121440    6327 gpu_device.cc:2022] Created device /job:localhost/replica:0/task:0/device:GPU:0 with 2159 MB memory:  -> device: 0, name: NVIDIA GeForce RTX 3050 Laptop GPU, pci bus id: 0000:01:00.0, compute capability: 8.6\n"
     ]
    }
   ],
   "source": [
    "# Membangun model CNN\n",
    "model = Sequential([\n",
    "    Conv2D(32, (3, 3), activation='relu', input_shape=(128, 128, 3)),\n",
    "    MaxPooling2D(2, 2),\n",
    "    Conv2D(64, (3, 3), activation='relu'),\n",
    "    MaxPooling2D(2, 2),\n",
    "    Conv2D(128, (3, 3), activation='relu'),\n",
    "    MaxPooling2D(2, 2),\n",
    "    Conv2D(256, (3, 3), activation='relu'),\n",
    "    MaxPooling2D(2, 2),\n",
    "    Conv2D(512, (3, 3), activation='relu'),\n",
    "    MaxPooling2D(2, 2),\n",
    "    Flatten(),\n",
    "    Dense(128, activation='relu'),\n",
    "    Dropout(0.5),\n",
    "    Dense(train_generator.num_classes, activation='softmax')  # Jumlah kelas sesuai dataset\n",
    "])"
   ]
  },
  {
   "cell_type": "markdown",
   "metadata": {},
   "source": [
    "### 4. Model setup early stoping ###\n",
    "#### set early stoping untuk acuracy dan menunggu 3 epoch jika akurasi tidak meningkat ####"
   ]
  },
  {
   "cell_type": "code",
   "execution_count": 8,
   "metadata": {
    "executionInfo": {
     "elapsed": 3209,
     "status": "ok",
     "timestamp": 1731842163743,
     "user": {
      "displayName": "gerii",
      "userId": "05968055790999459693"
     },
     "user_tz": -420
    },
    "id": "00KpdFPV2ycR"
   },
   "outputs": [],
   "source": [
    "model.compile(optimizer='adam', loss='categorical_crossentropy', metrics=['accuracy'])"
   ]
  },
  {
   "cell_type": "code",
   "execution_count": 9,
   "metadata": {
    "executionInfo": {
     "elapsed": 3,
     "status": "ok",
     "timestamp": 1731842166403,
     "user": {
      "displayName": "gerii",
      "userId": "05968055790999459693"
     },
     "user_tz": -420
    },
    "id": "miMenMTH3K_0"
   },
   "outputs": [],
   "source": [
    "early_stopping = EarlyStopping(\n",
    "    monitor='val_accuracy',  \n",
    "    patience=3,  # Menunggu 3 epoch jika akurasi tidak meningkat\n",
    "    mode='max',\n",
    "    verbose=1,\n",
    "    restore_best_weights=True\n",
    ")"
   ]
  },
  {
   "cell_type": "markdown",
   "metadata": {},
   "source": [
    "### 5. Compile model ###"
   ]
  },
  {
   "cell_type": "code",
   "execution_count": 10,
   "metadata": {
    "colab": {
     "base_uri": "https://localhost:8080/"
    },
    "executionInfo": {
     "elapsed": 7184348,
     "status": "ok",
     "timestamp": 1731849383700,
     "user": {
      "displayName": "gerii",
      "userId": "05968055790999459693"
     },
     "user_tz": -420
    },
    "id": "e0-eZg3x3Nfi",
    "outputId": "e1c8cd3f-5a20-42ea-bd3e-0975b4a1c4a5"
   },
   "outputs": [
    {
     "name": "stderr",
     "output_type": "stream",
     "text": [
      "/home/wan/anaconda3/envs/tf2/lib/python3.12/site-packages/keras/src/trainers/data_adapters/py_dataset_adapter.py:121: UserWarning: Your `PyDataset` class should call `super().__init__(**kwargs)` in its constructor. `**kwargs` can include `workers`, `use_multiprocessing`, `max_queue_size`. Do not pass these arguments to `fit()`, as they will be ignored.\n",
      "  self._warn_if_super_not_called()\n"
     ]
    },
    {
     "name": "stdout",
     "output_type": "stream",
     "text": [
      "Epoch 1/50\n"
     ]
    },
    {
     "name": "stderr",
     "output_type": "stream",
     "text": [
      "WARNING: All log messages before absl::InitializeLog() is called are written to STDERR\n",
      "I0000 00:00:1733057742.089562    6747 service.cc:148] XLA service 0x7fc8f400dfa0 initialized for platform CUDA (this does not guarantee that XLA will be used). Devices:\n",
      "I0000 00:00:1733057742.089774    6747 service.cc:156]   StreamExecutor device (0): NVIDIA GeForce RTX 3050 Laptop GPU, Compute Capability 8.6\n",
      "2024-12-01 19:55:42.124561: I tensorflow/compiler/mlir/tensorflow/utils/dump_mlir_util.cc:268] disabling MLIR crash reproducer, set env var `MLIR_CRASH_REPRODUCER_DIRECTORY` to enable.\n",
      "I0000 00:00:1733057742.273165    6747 cuda_dnn.cc:529] Loaded cuDNN version 90300\n"
     ]
    },
    {
     "name": "stdout",
     "output_type": "stream",
     "text": [
      "\u001b[1m   3/1449\u001b[0m \u001b[37m━━━━━━━━━━━━━━━━━━━━\u001b[0m \u001b[1m1:14\u001b[0m 51ms/step - accuracy: 0.0573 - loss: 3.2379"
     ]
    },
    {
     "name": "stderr",
     "output_type": "stream",
     "text": [
      "I0000 00:00:1733057746.364502    6747 device_compiler.h:188] Compiled cluster using XLA!  This line is logged at most once for the lifetime of the process.\n"
     ]
    },
    {
     "name": "stdout",
     "output_type": "stream",
     "text": [
      "\u001b[1m1449/1449\u001b[0m \u001b[32m━━━━━━━━━━━━━━━━━━━━\u001b[0m\u001b[37m\u001b[0m \u001b[1m0s\u001b[0m 92ms/step - accuracy: 0.1356 - loss: 2.8763"
     ]
    },
    {
     "name": "stderr",
     "output_type": "stream",
     "text": [
      "/home/wan/anaconda3/envs/tf2/lib/python3.12/site-packages/keras/src/trainers/data_adapters/py_dataset_adapter.py:121: UserWarning: Your `PyDataset` class should call `super().__init__(**kwargs)` in its constructor. `**kwargs` can include `workers`, `use_multiprocessing`, `max_queue_size`. Do not pass these arguments to `fit()`, as they will be ignored.\n",
      "  self._warn_if_super_not_called()\n"
     ]
    },
    {
     "name": "stdout",
     "output_type": "stream",
     "text": [
      "\u001b[1m1449/1449\u001b[0m \u001b[32m━━━━━━━━━━━━━━━━━━━━\u001b[0m\u001b[37m\u001b[0m \u001b[1m152s\u001b[0m 101ms/step - accuracy: 0.1357 - loss: 2.8760 - val_accuracy: 0.6039 - val_loss: 1.1848\n",
      "Epoch 2/50\n",
      "\u001b[1m1449/1449\u001b[0m \u001b[32m━━━━━━━━━━━━━━━━━━━━\u001b[0m\u001b[37m\u001b[0m \u001b[1m137s\u001b[0m 94ms/step - accuracy: 0.6073 - loss: 1.2391 - val_accuracy: 0.7417 - val_loss: 0.7565\n",
      "Epoch 3/50\n",
      "\u001b[1m1449/1449\u001b[0m \u001b[32m━━━━━━━━━━━━━━━━━━━━\u001b[0m\u001b[37m\u001b[0m \u001b[1m128s\u001b[0m 88ms/step - accuracy: 0.7765 - loss: 0.6967 - val_accuracy: 0.8721 - val_loss: 0.3860\n",
      "Epoch 4/50\n",
      "\u001b[1m1449/1449\u001b[0m \u001b[32m━━━━━━━━━━━━━━━━━━━━\u001b[0m\u001b[37m\u001b[0m \u001b[1m129s\u001b[0m 89ms/step - accuracy: 0.8306 - loss: 0.5461 - val_accuracy: 0.8966 - val_loss: 0.3059\n",
      "Epoch 5/50\n",
      "\u001b[1m1449/1449\u001b[0m \u001b[32m━━━━━━━━━━━━━━━━━━━━\u001b[0m\u001b[37m\u001b[0m \u001b[1m129s\u001b[0m 89ms/step - accuracy: 0.8733 - loss: 0.4038 - val_accuracy: 0.8903 - val_loss: 0.3750\n",
      "Epoch 6/50\n",
      "\u001b[1m1449/1449\u001b[0m \u001b[32m━━━━━━━━━━━━━━━━━━━━\u001b[0m\u001b[37m\u001b[0m \u001b[1m127s\u001b[0m 88ms/step - accuracy: 0.8897 - loss: 0.3589 - val_accuracy: 0.9347 - val_loss: 0.2123\n",
      "Epoch 7/50\n",
      "\u001b[1m1449/1449\u001b[0m \u001b[32m━━━━━━━━━━━━━━━━━━━━\u001b[0m\u001b[37m\u001b[0m \u001b[1m139s\u001b[0m 96ms/step - accuracy: 0.9034 - loss: 0.3075 - val_accuracy: 0.9327 - val_loss: 0.2124\n",
      "Epoch 8/50\n",
      "\u001b[1m1449/1449\u001b[0m \u001b[32m━━━━━━━━━━━━━━━━━━━━\u001b[0m\u001b[37m\u001b[0m \u001b[1m141s\u001b[0m 97ms/step - accuracy: 0.9149 - loss: 0.2756 - val_accuracy: 0.9323 - val_loss: 0.2211\n",
      "Epoch 9/50\n",
      "\u001b[1m1449/1449\u001b[0m \u001b[32m━━━━━━━━━━━━━━━━━━━━\u001b[0m\u001b[37m\u001b[0m \u001b[1m130s\u001b[0m 89ms/step - accuracy: 0.9188 - loss: 0.2706 - val_accuracy: 0.9398 - val_loss: 0.1851\n",
      "Epoch 10/50\n",
      "\u001b[1m1449/1449\u001b[0m \u001b[32m━━━━━━━━━━━━━━━━━━━━\u001b[0m\u001b[37m\u001b[0m \u001b[1m131s\u001b[0m 90ms/step - accuracy: 0.9269 - loss: 0.2373 - val_accuracy: 0.9254 - val_loss: 0.2301\n",
      "Epoch 11/50\n",
      "\u001b[1m1449/1449\u001b[0m \u001b[32m━━━━━━━━━━━━━━━━━━━━\u001b[0m\u001b[37m\u001b[0m \u001b[1m128s\u001b[0m 89ms/step - accuracy: 0.9300 - loss: 0.2221 - val_accuracy: 0.9609 - val_loss: 0.1190\n",
      "Epoch 12/50\n",
      "\u001b[1m1449/1449\u001b[0m \u001b[32m━━━━━━━━━━━━━━━━━━━━\u001b[0m\u001b[37m\u001b[0m \u001b[1m128s\u001b[0m 89ms/step - accuracy: 0.9341 - loss: 0.2087 - val_accuracy: 0.9303 - val_loss: 0.2211\n",
      "Epoch 13/50\n",
      "\u001b[1m1449/1449\u001b[0m \u001b[32m━━━━━━━━━━━━━━━━━━━━\u001b[0m\u001b[37m\u001b[0m \u001b[1m128s\u001b[0m 89ms/step - accuracy: 0.9384 - loss: 0.2000 - val_accuracy: 0.9290 - val_loss: 0.2314\n",
      "Epoch 14/50\n",
      "\u001b[1m1449/1449\u001b[0m \u001b[32m━━━━━━━━━━━━━━━━━━━━\u001b[0m\u001b[37m\u001b[0m \u001b[1m130s\u001b[0m 89ms/step - accuracy: 0.9388 - loss: 0.2065 - val_accuracy: 0.9644 - val_loss: 0.1133\n",
      "Epoch 15/50\n",
      "\u001b[1m1449/1449\u001b[0m \u001b[32m━━━━━━━━━━━━━━━━━━━━\u001b[0m\u001b[37m\u001b[0m \u001b[1m130s\u001b[0m 90ms/step - accuracy: 0.9376 - loss: 0.2099 - val_accuracy: 0.9546 - val_loss: 0.1414\n",
      "Epoch 16/50\n",
      "\u001b[1m1449/1449\u001b[0m \u001b[32m━━━━━━━━━━━━━━━━━━━━\u001b[0m\u001b[37m\u001b[0m \u001b[1m130s\u001b[0m 90ms/step - accuracy: 0.9448 - loss: 0.1804 - val_accuracy: 0.9532 - val_loss: 0.1601\n",
      "Epoch 17/50\n",
      "\u001b[1m1449/1449\u001b[0m \u001b[32m━━━━━━━━━━━━━━━━━━━━\u001b[0m\u001b[37m\u001b[0m \u001b[1m136s\u001b[0m 94ms/step - accuracy: 0.9446 - loss: 0.1768 - val_accuracy: 0.9657 - val_loss: 0.1075\n",
      "Epoch 18/50\n",
      "\u001b[1m1449/1449\u001b[0m \u001b[32m━━━━━━━━━━━━━━━━━━━━\u001b[0m\u001b[37m\u001b[0m \u001b[1m131s\u001b[0m 91ms/step - accuracy: 0.9450 - loss: 0.1790 - val_accuracy: 0.9528 - val_loss: 0.1636\n",
      "Epoch 19/50\n",
      "\u001b[1m1449/1449\u001b[0m \u001b[32m━━━━━━━━━━━━━━━━━━━━\u001b[0m\u001b[37m\u001b[0m \u001b[1m128s\u001b[0m 89ms/step - accuracy: 0.9419 - loss: 0.1922 - val_accuracy: 0.9596 - val_loss: 0.1255\n",
      "Epoch 20/50\n",
      "\u001b[1m1449/1449\u001b[0m \u001b[32m━━━━━━━━━━━━━━━━━━━━\u001b[0m\u001b[37m\u001b[0m \u001b[1m129s\u001b[0m 89ms/step - accuracy: 0.9503 - loss: 0.1660 - val_accuracy: 0.9686 - val_loss: 0.1069\n",
      "Epoch 21/50\n",
      "\u001b[1m1449/1449\u001b[0m \u001b[32m━━━━━━━━━━━━━━━━━━━━\u001b[0m\u001b[37m\u001b[0m \u001b[1m129s\u001b[0m 89ms/step - accuracy: 0.9485 - loss: 0.1796 - val_accuracy: 0.9631 - val_loss: 0.1186\n",
      "Epoch 22/50\n",
      "\u001b[1m1449/1449\u001b[0m \u001b[32m━━━━━━━━━━━━━━━━━━━━\u001b[0m\u001b[37m\u001b[0m \u001b[1m129s\u001b[0m 89ms/step - accuracy: 0.9475 - loss: 0.1744 - val_accuracy: 0.9619 - val_loss: 0.1340\n",
      "Epoch 23/50\n",
      "\u001b[1m1449/1449\u001b[0m \u001b[32m━━━━━━━━━━━━━━━━━━━━\u001b[0m\u001b[37m\u001b[0m \u001b[1m129s\u001b[0m 89ms/step - accuracy: 0.9519 - loss: 0.1588 - val_accuracy: 0.9556 - val_loss: 0.1440\n",
      "Epoch 23: early stopping\n",
      "Restoring model weights from the end of the best epoch: 20.\n"
     ]
    }
   ],
   "source": [
    "history = model.fit(\n",
    "    train_generator,\n",
    "    validation_data=validation_generator,\n",
    "    epochs=50,\n",
    "    callbacks=[early_stopping]\n",
    ")"
   ]
  },
  {
   "cell_type": "markdown",
   "metadata": {},
   "source": [
    "### 6. Analisis akurasi dengan plot diagram dan simpan model h5 ###"
   ]
  },
  {
   "cell_type": "code",
   "execution_count": 11,
   "metadata": {
    "colab": {
     "base_uri": "https://localhost:8080/",
     "height": 472
    },
    "executionInfo": {
     "elapsed": 908,
     "status": "ok",
     "timestamp": 1731849728728,
     "user": {
      "displayName": "gerii",
      "userId": "05968055790999459693"
     },
     "user_tz": -420
    },
    "id": "PsEDfRPc0n6X",
    "outputId": "c2f1bb6d-7cef-4523-cfba-b758c91df160"
   },
   "outputs": [
    {
     "data": {
      "image/png": "[encoded data removed]",
      "text/plain": [
       "<Figure size 640x480 with 1 Axes>"
      ]
     },
     "metadata": {},
     "output_type": "display_data"
    }
   ],
   "source": [
    "import matplotlib.pyplot as plt\n",
    "\n",
    "# Plot akurasi\n",
    "plt.plot(history.history['accuracy'], label='Training Accuracy')\n",
    "plt.plot(history.history['val_accuracy'], label='Validation Accuracy')\n",
    "plt.xlabel('Epoch')\n",
    "plt.ylabel('Accuracy')\n",
    "plt.title('Training and Validation Accuracy')\n",
    "plt.legend()\n",
    "plt.grid()\n",
    "plt.show()\n"
   ]
  },
  {
   "cell_type": "code",
   "execution_count": 12,
   "metadata": {
    "colab": {
     "base_uri": "https://localhost:8080/"
    },
    "executionInfo": {
     "elapsed": 821,
     "status": "ok",
     "timestamp": 1731849606549,
     "user": {
      "displayName": "gerii",
      "userId": "05968055790999459693"
     },
     "user_tz": -420
    },
    "id": "ifwzpw8j3QoG",
    "outputId": "0a383b2e-9c5e-4e61-9566-fa624ad81d9a"
   },
   "outputs": [
    {
     "name": "stderr",
     "output_type": "stream",
     "text": [
      "WARNING:absl:You are saving your model as an HDF5 file via `model.save()` or `keras.saving.save_model(model)`. This file format is considered legacy. We recommend using instead the native Keras format, e.g. `model.save('my_model.keras')` or `keras.saving.save_model(model, 'my_model.keras')`. \n"
     ]
    }
   ],
   "source": [
    "# Simpan model\n",
    "model.save('Final_CekTandur.h5')"
   ]
  },
  {
   "cell_type": "markdown",
   "metadata": {},
   "source": [
    "### 7. Uji model H5 dengan data pada direktory test ###"
   ]
  },
  {
   "cell_type": "code",
   "execution_count": 14,
   "metadata": {
    "colab": {
     "base_uri": "https://localhost:8080/"
    },
    "executionInfo": {
     "elapsed": 4451,
     "status": "ok",
     "timestamp": 1731849622775,
     "user": {
      "displayName": "gerii",
      "userId": "05968055790999459693"
     },
     "user_tz": -420
    },
    "id": "sOrCzCGCNHti",
    "outputId": "0b8cd308-011e-47bb-fac6-a66b816e4d07"
   },
   "outputs": [
    {
     "name": "stderr",
     "output_type": "stream",
     "text": [
      "WARNING:absl:Compiled the loaded model, but the compiled metrics have yet to be built. `model.compile_metrics` will be empty until you train or evaluate the model.\n"
     ]
    },
    {
     "name": "stdout",
     "output_type": "stream",
     "text": [
      "\u001b[1m1/1\u001b[0m \u001b[32m━━━━━━━━━━━━━━━━━━━━\u001b[0m\u001b[37m\u001b[0m \u001b[1m0s\u001b[0m 259ms/step\n",
      "Gambar: AppleScab2.JPG\n",
      "  Prediksi: Apel__Keropeng_apel\n",
      "  Probabilitas: 1.00\n",
      "----\n",
      "\u001b[1m1/1\u001b[0m \u001b[32m━━━━━━━━━━━━━━━━━━━━\u001b[0m\u001b[37m\u001b[0m \u001b[1m0s\u001b[0m 21ms/step\n",
      "Gambar: TomatoEarlyBlight2.JPG\n",
      "  Prediksi: Tomat__Busuk_daun_dini\n",
      "  Probabilitas: 0.65\n",
      "----\n",
      "\u001b[1m1/1\u001b[0m \u001b[32m━━━━━━━━━━━━━━━━━━━━\u001b[0m\u001b[37m\u001b[0m \u001b[1m0s\u001b[0m 21ms/step\n",
      "Gambar: TomatoYellowCurlVirus4.JPG\n",
      "  Prediksi: Tomat__Daun_keriting_kuning\n",
      "  Probabilitas: 1.00\n",
      "----\n",
      "\u001b[1m1/1\u001b[0m \u001b[32m━━━━━━━━━━━━━━━━━━━━\u001b[0m\u001b[37m\u001b[0m \u001b[1m0s\u001b[0m 16ms/step\n",
      "Gambar: TomatoYellowCurlVirus3.JPG\n",
      "  Prediksi: Tomat__Daun_keriting_kuning\n",
      "  Probabilitas: 1.00\n",
      "----\n",
      "\u001b[1m1/1\u001b[0m \u001b[32m━━━━━━━━━━━━━━━━━━━━\u001b[0m\u001b[37m\u001b[0m \u001b[1m0s\u001b[0m 17ms/step\n",
      "Gambar: AppleCedarRust3.JPG\n",
      "  Prediksi: Apel__Karat_apel_cedar\n",
      "  Probabilitas: 1.00\n",
      "----\n",
      "\u001b[1m1/1\u001b[0m \u001b[32m━━━━━━━━━━━━━━━━━━━━\u001b[0m\u001b[37m\u001b[0m \u001b[1m0s\u001b[0m 15ms/step\n",
      "Gambar: TomatoEarlyBlight1.JPG\n",
      "  Prediksi: Tomat__Busuk_daun_telat\n",
      "  Probabilitas: 0.36\n",
      "----\n",
      "\u001b[1m1/1\u001b[0m \u001b[32m━━━━━━━━━━━━━━━━━━━━\u001b[0m\u001b[37m\u001b[0m \u001b[1m0s\u001b[0m 19ms/step\n",
      "Gambar: AppleScab3.JPG\n",
      "  Prediksi: Jagung__Bercak_daun_abu-abu\n",
      "  Probabilitas: 0.80\n",
      "----\n",
      "\u001b[1m1/1\u001b[0m \u001b[32m━━━━━━━━━━━━━━━━━━━━\u001b[0m\u001b[37m\u001b[0m \u001b[1m0s\u001b[0m 19ms/step\n",
      "Gambar: TomatoHealthy2.JPG\n",
      "  Prediksi: Tomat__Sehat\n",
      "  Probabilitas: 0.80\n",
      "----\n",
      "\u001b[1m1/1\u001b[0m \u001b[32m━━━━━━━━━━━━━━━━━━━━\u001b[0m\u001b[37m\u001b[0m \u001b[1m0s\u001b[0m 33ms/step\n",
      "Gambar: TomatoHealthy1.JPG\n",
      "  Prediksi: Tomat__Sehat\n",
      "  Probabilitas: 1.00\n",
      "----\n",
      "\u001b[1m1/1\u001b[0m \u001b[32m━━━━━━━━━━━━━━━━━━━━\u001b[0m\u001b[37m\u001b[0m \u001b[1m0s\u001b[0m 21ms/step\n",
      "Gambar: CornCommonRust1.JPG\n",
      "  Prediksi: Jagung__Karat_umum\n",
      "  Probabilitas: 1.00\n",
      "----\n",
      "\u001b[1m1/1\u001b[0m \u001b[32m━━━━━━━━━━━━━━━━━━━━\u001b[0m\u001b[37m\u001b[0m \u001b[1m0s\u001b[0m 18ms/step\n",
      "Gambar: TomatoHealthy3.JPG\n",
      "  Prediksi: Tomat__Sehat\n",
      "  Probabilitas: 1.00\n",
      "----\n",
      "\u001b[1m1/1\u001b[0m \u001b[32m━━━━━━━━━━━━━━━━━━━━\u001b[0m\u001b[37m\u001b[0m \u001b[1m0s\u001b[0m 19ms/step\n",
      "Gambar: TomatoEarlyBlight6.JPG\n",
      "  Prediksi: Tomat__Busuk_daun_dini\n",
      "  Probabilitas: 0.65\n",
      "----\n",
      "\u001b[1m1/1\u001b[0m \u001b[32m━━━━━━━━━━━━━━━━━━━━\u001b[0m\u001b[37m\u001b[0m \u001b[1m0s\u001b[0m 17ms/step\n",
      "Gambar: AppleCedarRust2.JPG\n",
      "  Prediksi: Apel__Karat_apel_cedar\n",
      "  Probabilitas: 1.00\n",
      "----\n",
      "\u001b[1m1/1\u001b[0m \u001b[32m━━━━━━━━━━━━━━━━━━━━\u001b[0m\u001b[37m\u001b[0m \u001b[1m0s\u001b[0m 16ms/step\n",
      "Gambar: TomatoEarlyBlight5.JPG\n",
      "  Prediksi: Tomat__Busuk_daun_dini\n",
      "  Probabilitas: 1.00\n",
      "----\n",
      "\u001b[1m1/1\u001b[0m \u001b[32m━━━━━━━━━━━━━━━━━━━━\u001b[0m\u001b[37m\u001b[0m \u001b[1m0s\u001b[0m 16ms/step\n",
      "Gambar: CornCommonRust3.JPG\n",
      "  Prediksi: Jagung__Karat_umum\n",
      "  Probabilitas: 1.00\n",
      "----\n",
      "\u001b[1m1/1\u001b[0m \u001b[32m━━━━━━━━━━━━━━━━━━━━\u001b[0m\u001b[37m\u001b[0m \u001b[1m0s\u001b[0m 18ms/step\n",
      "Gambar: TomatoYellowCurlVirus6.JPG\n",
      "  Prediksi: Tomat__Daun_keriting_kuning\n",
      "  Probabilitas: 1.00\n",
      "----\n",
      "\u001b[1m1/1\u001b[0m \u001b[32m━━━━━━━━━━━━━━━━━━━━\u001b[0m\u001b[37m\u001b[0m \u001b[1m0s\u001b[0m 18ms/step\n",
      "Gambar: TomatoYellowCurlVirus2.JPG\n",
      "  Prediksi: Tomat__Daun_keriting_kuning\n",
      "  Probabilitas: 1.00\n",
      "----\n",
      "\u001b[1m1/1\u001b[0m \u001b[32m━━━━━━━━━━━━━━━━━━━━\u001b[0m\u001b[37m\u001b[0m \u001b[1m0s\u001b[0m 16ms/step\n",
      "Gambar: TomatoEarlyBlight4.JPG\n",
      "  Prediksi: Tomat__Busuk_daun_dini\n",
      "  Probabilitas: 1.00\n",
      "----\n",
      "\u001b[1m1/1\u001b[0m \u001b[32m━━━━━━━━━━━━━━━━━━━━\u001b[0m\u001b[37m\u001b[0m \u001b[1m0s\u001b[0m 17ms/step\n",
      "Gambar: PotatoEarlyBlight3.JPG\n",
      "  Prediksi: Kentang__Busuk_daun_dini\n",
      "  Probabilitas: 0.90\n",
      "----\n",
      "\u001b[1m1/1\u001b[0m \u001b[32m━━━━━━━━━━━━━━━━━━━━\u001b[0m\u001b[37m\u001b[0m \u001b[1m0s\u001b[0m 18ms/step\n",
      "Gambar: AppleScab1.JPG\n",
      "  Prediksi: Apel__Keropeng_apel\n",
      "  Probabilitas: 0.83\n",
      "----\n",
      "\u001b[1m1/1\u001b[0m \u001b[32m━━━━━━━━━━━━━━━━━━━━\u001b[0m\u001b[37m\u001b[0m \u001b[1m0s\u001b[0m 18ms/step\n",
      "Gambar: CornCommonRust2.JPG\n",
      "  Prediksi: Jagung__Karat_umum\n",
      "  Probabilitas: 1.00\n",
      "----\n",
      "\u001b[1m1/1\u001b[0m \u001b[32m━━━━━━━━━━━━━━━━━━━━\u001b[0m\u001b[37m\u001b[0m \u001b[1m0s\u001b[0m 18ms/step\n",
      "Gambar: PotatoEarlyBlight1.JPG\n",
      "  Prediksi: Kentang__Busuk_daun_dini\n",
      "  Probabilitas: 1.00\n",
      "----\n",
      "\u001b[1m1/1\u001b[0m \u001b[32m━━━━━━━━━━━━━━━━━━━━\u001b[0m\u001b[37m\u001b[0m \u001b[1m0s\u001b[0m 16ms/step\n",
      "Gambar: PotatoEarlyBlight4.JPG\n",
      "  Prediksi: Kentang__Busuk_daun_dini\n",
      "  Probabilitas: 1.00\n",
      "----\n",
      "\u001b[1m1/1\u001b[0m \u001b[32m━━━━━━━━━━━━━━━━━━━━\u001b[0m\u001b[37m\u001b[0m \u001b[1m0s\u001b[0m 16ms/step\n",
      "Gambar: TomatoYellowCurlVirus5.JPG\n",
      "  Prediksi: Tomat__Daun_keriting_kuning\n",
      "  Probabilitas: 1.00\n",
      "----\n",
      "\u001b[1m1/1\u001b[0m \u001b[32m━━━━━━━━━━━━━━━━━━━━\u001b[0m\u001b[37m\u001b[0m \u001b[1m0s\u001b[0m 16ms/step\n",
      "Gambar: PotatoEarlyBlight5.JPG\n",
      "  Prediksi: Kentang__Busuk_daun_dini\n",
      "  Probabilitas: 1.00\n",
      "----\n",
      "\u001b[1m1/1\u001b[0m \u001b[32m━━━━━━━━━━━━━━━━━━━━\u001b[0m\u001b[37m\u001b[0m \u001b[1m0s\u001b[0m 16ms/step\n",
      "Gambar: PotatoEarlyBlight2.JPG\n",
      "  Prediksi: Kentang__Busuk_daun_dini\n",
      "  Probabilitas: 1.00\n",
      "----\n",
      "\u001b[1m1/1\u001b[0m \u001b[32m━━━━━━━━━━━━━━━━━━━━\u001b[0m\u001b[37m\u001b[0m \u001b[1m0s\u001b[0m 23ms/step\n",
      "Gambar: AppleCedarRust1.JPG\n",
      "  Prediksi: Apel__Karat_apel_cedar\n",
      "  Probabilitas: 1.00\n",
      "----\n",
      "\u001b[1m1/1\u001b[0m \u001b[32m━━━━━━━━━━━━━━━━━━━━\u001b[0m\u001b[37m\u001b[0m \u001b[1m0s\u001b[0m 16ms/step\n",
      "Gambar: TomatoEarlyBlight3.JPG\n",
      "  Prediksi: Tomat__Busuk_daun_dini\n",
      "  Probabilitas: 0.80\n",
      "----\n",
      "\u001b[1m1/1\u001b[0m \u001b[32m━━━━━━━━━━━━━━━━━━━━\u001b[0m\u001b[37m\u001b[0m \u001b[1m0s\u001b[0m 16ms/step\n",
      "Gambar: TomatoHealthy4.JPG\n",
      "  Prediksi: Tomat__Sehat\n",
      "  Probabilitas: 1.00\n",
      "----\n",
      "\u001b[1m1/1\u001b[0m \u001b[32m━━━━━━━━━━━━━━━━━━━━\u001b[0m\u001b[37m\u001b[0m \u001b[1m0s\u001b[0m 16ms/step\n",
      "Gambar: PotatoHealthy2.JPG\n",
      "  Prediksi: Kentang__Sehat\n",
      "  Probabilitas: 1.00\n",
      "----\n",
      "\u001b[1m1/1\u001b[0m \u001b[32m━━━━━━━━━━━━━━━━━━━━\u001b[0m\u001b[37m\u001b[0m \u001b[1m0s\u001b[0m 17ms/step\n",
      "Gambar: TomatoYellowCurlVirus1.JPG\n",
      "  Prediksi: Tomat__Daun_keriting_kuning\n",
      "  Probabilitas: 1.00\n",
      "----\n",
      "\u001b[1m1/1\u001b[0m \u001b[32m━━━━━━━━━━━━━━━━━━━━\u001b[0m\u001b[37m\u001b[0m \u001b[1m0s\u001b[0m 19ms/step\n",
      "Gambar: PotatoHealthy1.JPG\n",
      "  Prediksi: Kentang__Sehat\n",
      "  Probabilitas: 1.00\n",
      "----\n",
      "\u001b[1m1/1\u001b[0m \u001b[32m━━━━━━━━━━━━━━━━━━━━\u001b[0m\u001b[37m\u001b[0m \u001b[1m0s\u001b[0m 19ms/step\n",
      "Gambar: AppleCedarRust4.JPG\n",
      "  Prediksi: Apel__Karat_apel_cedar\n",
      "  Probabilitas: 1.00\n",
      "----\n"
     ]
    }
   ],
   "source": [
    "import os\n",
    "import numpy as np\n",
    "from tensorflow.keras.preprocessing.image import load_img, img_to_array\n",
    "import tensorflow as tf\n",
    "\n",
    "# Path ke direktori test\n",
    "test_dir = 'extracted_data/test'\n",
    "\n",
    "# Load model\n",
    "model = tf.keras.models.load_model('Final_CekTandur.h5')\n",
    "\n",
    "# Mendapatkan label kelas dari model\n",
    "class_indices = train_generator.class_indices  # Mengambil mapping dari train_generator\n",
    "class_labels = {v: k for k, v in class_indices.items()}  # Membalik mapping menjadi indeks ke nama kelas\n",
    "\n",
    "# Menyiapkan gambar untuk prediksi\n",
    "def preprocess_image(image_path, target_size=(128, 128)):\n",
    "    img = load_img(image_path, target_size=target_size)  # Load gambar\n",
    "    img_array = img_to_array(img)  # Konversi ke array\n",
    "    img_array = np.expand_dims(img_array, axis=0)  # Tambahkan dimensi batch\n",
    "    img_array = img_array / 255.0  # Rescale\n",
    "    return img_array\n",
    "\n",
    "# Melakukan prediksi untuk setiap gambar\n",
    "for file_name in os.listdir(test_dir):\n",
    "    file_path = os.path.join(test_dir, file_name)\n",
    "    if os.path.isfile(file_path):\n",
    "        # Preprocessing gambar\n",
    "        img_array = preprocess_image(file_path)\n",
    "\n",
    "        # Prediksi\n",
    "        prediction = model.predict(img_array)\n",
    "        predicted_class = np.argmax(prediction, axis=1)[0]\n",
    "        predicted_label = class_labels[predicted_class]\n",
    "\n",
    "        # Tampilkan hasil\n",
    "        print(f\"Gambar: {file_name}\")\n",
    "        print(f\"  Prediksi: {predicted_label}\")\n",
    "        print(f\"  Probabilitas: {prediction[0][predicted_class]:.2f}\")\n",
    "        print(\"----\")\n"
   ]
  },
  {
   "cell_type": "code",
   "execution_count": 22,
   "metadata": {
    "id": "lMwnGQChR_9o"
   },
   "outputs": [],
   "source": [
    "# SELANJUTNYA CARI ARTIKEL / DATA UNTUK OUTPUT YANG DI BUTUHKAN :\n",
    "# penyebab\n",
    "# analisis\n",
    "# saran\n",
    "# saran alternatif"
   ]
  },
  {
   "cell_type": "markdown",
   "metadata": {},
   "source": [
    "### 8. Convert model h5 menjadi tflite ###\n",
    "#### kenapa tflite ? ####\n",
    "kami berencana untuk melakukan deploy model cnn ini kedalam aplikasi mobile langsung"
   ]
  },
  {
   "cell_type": "code",
   "execution_count": 15,
   "metadata": {},
   "outputs": [
    {
     "name": "stdout",
     "output_type": "stream",
     "text": [
      "2.18.0\n"
     ]
    }
   ],
   "source": [
    "import tensorflow as tf\n",
    "print(tf.version.VERSION)"
   ]
  },
  {
   "cell_type": "code",
   "execution_count": 17,
   "metadata": {},
   "outputs": [
    {
     "name": "stdout",
     "output_type": "stream",
     "text": [
      "INFO:tensorflow:Assets written to: /tmp/tmpq9snxo0l/assets\n"
     ]
    },
    {
     "name": "stderr",
     "output_type": "stream",
     "text": [
      "INFO:tensorflow:Assets written to: /tmp/tmpq9snxo0l/assets\n"
     ]
    },
    {
     "name": "stdout",
     "output_type": "stream",
     "text": [
      "Saved artifact at '/tmp/tmpq9snxo0l'. The following endpoints are available:\n",
      "\n",
      "* Endpoint 'serve'\n",
      "  args_0 (POSITIONAL_ONLY): TensorSpec(shape=(None, 128, 128, 3), dtype=tf.float32, name='input_layer')\n",
      "Output Type:\n",
      "  TensorSpec(shape=(None, 25), dtype=tf.float32, name=None)\n",
      "Captures:\n",
      "  140501547359632: TensorSpec(shape=(), dtype=tf.resource, name=None)\n",
      "  140501547357328: TensorSpec(shape=(), dtype=tf.resource, name=None)\n",
      "  140501547357904: TensorSpec(shape=(), dtype=tf.resource, name=None)\n",
      "  140501547359248: TensorSpec(shape=(), dtype=tf.resource, name=None)\n",
      "  140501547356944: TensorSpec(shape=(), dtype=tf.resource, name=None)\n",
      "  140501547360016: TensorSpec(shape=(), dtype=tf.resource, name=None)\n",
      "  140501547361744: TensorSpec(shape=(), dtype=tf.resource, name=None)\n",
      "  140501547360400: TensorSpec(shape=(), dtype=tf.resource, name=None)\n",
      "  140501547355792: TensorSpec(shape=(), dtype=tf.resource, name=None)\n",
      "  140501547360784: TensorSpec(shape=(), dtype=tf.resource, name=None)\n",
      "  140501547355216: TensorSpec(shape=(), dtype=tf.resource, name=None)\n",
      "  140501547353680: TensorSpec(shape=(), dtype=tf.resource, name=None)\n",
      "  140501547357520: TensorSpec(shape=(), dtype=tf.resource, name=None)\n",
      "  140501547362512: TensorSpec(shape=(), dtype=tf.resource, name=None)\n"
     ]
    },
    {
     "name": "stderr",
     "output_type": "stream",
     "text": [
      "W0000 00:00:1733061095.203979    6327 tf_tfl_flatbuffer_helpers.cc:365] Ignored output_format.\n",
      "W0000 00:00:1733061095.203996    6327 tf_tfl_flatbuffer_helpers.cc:368] Ignored drop_control_dependency.\n"
     ]
    },
    {
     "name": "stdout",
     "output_type": "stream",
     "text": [
      "Model berhasil dikonversi ke format TFLite.\n"
     ]
    },
    {
     "name": "stderr",
     "output_type": "stream",
     "text": [
      "2024-12-01 20:51:35.204152: I tensorflow/cc/saved_model/reader.cc:83] Reading SavedModel from: /tmp/tmpq9snxo0l\n",
      "2024-12-01 20:51:35.204747: I tensorflow/cc/saved_model/reader.cc:52] Reading meta graph with tags { serve }\n",
      "2024-12-01 20:51:35.204766: I tensorflow/cc/saved_model/reader.cc:147] Reading SavedModel debug info (if present) from: /tmp/tmpq9snxo0l\n",
      "2024-12-01 20:51:35.210046: I tensorflow/cc/saved_model/loader.cc:236] Restoring SavedModel bundle.\n",
      "2024-12-01 20:51:35.263712: I tensorflow/cc/saved_model/loader.cc:220] Running initialization op on SavedModel bundle at path: /tmp/tmpq9snxo0l\n",
      "2024-12-01 20:51:35.280373: I tensorflow/cc/saved_model/loader.cc:466] SavedModel load for tags { serve }; Status: success: OK. Took 76222 microseconds.\n"
     ]
    }
   ],
   "source": [
    "converter = tf.lite.TFLiteConverter.from_keras_model(model)\n",
    "\n",
    "# Konversi model ke format .tflite\n",
    "tflite_model = converter.convert()\n",
    "\n",
    "# Simpan model TensorFlow Lite ke file\n",
    "with open('Final_CekTandur.tflite', 'wb') as f:\n",
    "    f.write(tflite_model)\n",
    "\n",
    "print(\"Model berhasil dikonversi ke format TFLite.\")\n"
   ]
  },
  {
   "cell_type": "markdown",
   "metadata": {},
   "source": [
    "### 9. Convert model h5 menjadi json ###\n",
    "#### kenapa json ? ####\n",
    "kami berencana untuk melakukan "
   ]
  },
  {
   "cell_type": "code",
   "execution_count": 18,
   "metadata": {},
   "outputs": [
    {
     "name": "stderr",
     "output_type": "stream",
     "text": [
      "WARNING:absl:Compiled the loaded model, but the compiled metrics have yet to be built. `model.compile_metrics` will be empty until you train or evaluate the model.\n"
     ]
    }
   ],
   "source": [
    "model = load_model('Final_CekTandur.h5')"
   ]
  },
  {
   "cell_type": "code",
   "execution_count": 19,
   "metadata": {},
   "outputs": [
    {
     "name": "stdout",
     "output_type": "stream",
     "text": [
      "Model berhasil dikonversi ke JSON dan disimpan sebagai model.json\n"
     ]
    }
   ],
   "source": [
    "model_json = model.to_json()\n",
    "\n",
    "with open('Final_CekTandur.json', 'w') as json_file:\n",
    "    json_file.write(model_json)\n",
    "\n",
    "print(\"Model berhasil dikonversi ke JSON dan disimpan sebagai model.json\")"
   ]
  },
  {
   "cell_type": "code",
   "execution_count": null,
   "metadata": {},
   "outputs": [],
   "source": []
  }
 ],
 "metadata": {
  "accelerator": "GPU",
  "colab": {
   "gpuType": "T4",
   "provenance": []
  },
  "kernelspec": {
   "display_name": "Python 3 (ipykernel)",
   "language": "python",
   "name": "python3"
  },
  "language_info": {
   "codemirror_mode": {
    "name": "ipython",
    "version": 3
   },
   "file_extension": ".py",
   "mimetype": "text/x-python",
   "name": "python",
   "nbconvert_exporter": "python",
   "pygments_lexer": "ipython3",
   "version": "3.12.2"
  }
 },
 "nbformat": 4,
 "nbformat_minor": 4
}
