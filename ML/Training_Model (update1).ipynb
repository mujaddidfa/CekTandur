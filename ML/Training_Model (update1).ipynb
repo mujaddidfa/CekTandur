{
 "cells": [
  {
   "cell_type": "markdown",
   "metadata": {
    "id": "AVnzCZlkbRLJ"
   },
   "source": [
    "# TES TRAININ DENGAN DATASET DARI KAGKLE #\n",
    "## LINK : ##\n",
    "### https://www.kaggle.com/datasets/vipoooool/new-plant-diseases-dataset ###"
   ]
  },
  {
   "cell_type": "code",
   "execution_count": null,
   "metadata": {
    "id": "QhOT8z3OaqsL"
   },
   "outputs": [],
   "source": [
    "import tensorflow as tf\n",
    "from tensorflow.keras.preprocessing.image import ImageDataGenerator\n",
    "from tensorflow.keras.models import Sequential\n",
    "from tensorflow.keras.layers import Conv2D, MaxPooling2D, Flatten, Dense, Dropout\n",
    "from tensorflow.keras.callbacks import EarlyStopping"
   ]
  },
  {
   "cell_type": "code",
   "execution_count": null,
   "metadata": {
    "id": "euwG9Nda1gpx"
   },
   "outputs": [],
   "source": [
    "# Path ke folder dataset\n",
    "train_dir = 'extracted_data/Data Penyakit/train'\n",
    "validation_dir = 'extracted_data/Data Penyakit/valid'"
   ]
  },
  {
   "cell_type": "code",
   "execution_count": null,
   "metadata": {
    "id": "qKWJGmB62ZEo"
   },
   "outputs": [],
   "source": [
    "# Preprocessing data menggunakan ImageDataGenerator\n",
    "train_datagen = ImageDataGenerator(\n",
    "    rescale=1.0/255,\n",
    "    rotation_range=20,\n",
    "    width_shift_range=0.2,\n",
    "    height_shift_range=0.2,\n",
    "    shear_range=0.2,\n",
    "    zoom_range=0.2,\n",
    "    horizontal_flip=True\n",
    ")"
   ]
  },
  {
   "cell_type": "code",
   "execution_count": null,
   "metadata": {
    "id": "yfNkJHiR2dFr"
   },
   "outputs": [],
   "source": [
    "validation_datagen = ImageDataGenerator(rescale=1.0/255)"
   ]
  },
  {
   "cell_type": "code",
   "execution_count": null,
   "metadata": {
    "colab": {
     "base_uri": "https://localhost:8080/"
    },
    "id": "LQbhy4Qd2llb",
    "outputId": "88157e44-aba5-45d2-940a-3e6faa7a63e0"
   },
   "outputs": [
    {
     "name": "stdout",
     "output_type": "stream",
     "text": [
      "Found 70295 images belonging to 38 classes.\n",
      "Found 17572 images belonging to 38 classes.\n"
     ]
    }
   ],
   "source": [
    "# Membuat generator untuk data training dan validasi\n",
    "train_generator = train_datagen.flow_from_directory(\n",
    "    train_dir,\n",
    "    target_size=(128, 128),  # Sesuaikan dengan ukuran input yang diinginkan\n",
    "    batch_size=32,\n",
    "    class_mode='categorical'\n",
    ")\n",
    "\n",
    "validation_generator = validation_datagen.flow_from_directory(\n",
    "    validation_dir,\n",
    "    target_size=(128, 128),\n",
    "    batch_size=32,\n",
    "    class_mode='categorical'\n",
    ")"
   ]
  },
  {
   "cell_type": "code",
   "execution_count": null,
   "metadata": {
    "colab": {
     "base_uri": "https://localhost:8080/"
    },
    "id": "amUydAIlaWWF",
    "outputId": "22463562-65ba-4bd4-ab7e-8023adcdd31a"
   },
   "outputs": [
    {
     "name": "stdout",
     "output_type": "stream",
     "text": [
      "Nama-nama kelas: ['Apple___Apple_scab', 'Apple___Black_rot', 'Apple___Cedar_apple_rust', 'Apple___healthy', 'Blueberry___healthy', 'Cherry_(including_sour)___Powdery_mildew', 'Cherry_(including_sour)___healthy', 'Corn_(maize)___Cercospora_leaf_spot Gray_leaf_spot', 'Corn_(maize)___Common_rust_', 'Corn_(maize)___Northern_Leaf_Blight', 'Corn_(maize)___healthy', 'Grape___Black_rot', 'Grape___Esca_(Black_Measles)', 'Grape___Leaf_blight_(Isariopsis_Leaf_Spot)', 'Grape___healthy', 'Orange___Haunglongbing_(Citrus_greening)', 'Peach___Bacterial_spot', 'Peach___healthy', 'Pepper,_bell___Bacterial_spot', 'Pepper,_bell___healthy', 'Potato___Early_blight', 'Potato___Late_blight', 'Potato___healthy', 'Raspberry___healthy', 'Soybean___healthy', 'Squash___Powdery_mildew', 'Strawberry___Leaf_scorch', 'Strawberry___healthy', 'Tomato___Bacterial_spot', 'Tomato___Early_blight', 'Tomato___Late_blight', 'Tomato___Leaf_Mold', 'Tomato___Septoria_leaf_spot', 'Tomato___Spider_mites Two-spotted_spider_mite', 'Tomato___Target_Spot', 'Tomato___Tomato_Yellow_Leaf_Curl_Virus', 'Tomato___Tomato_mosaic_virus', 'Tomato___healthy']\n"
     ]
    }
   ],
   "source": [
    "# Mendapatkan nama-nama kelas\n",
    "class_names = list(train_generator.class_indices.keys())\n",
    "print(\"Nama-nama kelas:\", class_names)\n"
   ]
  },
  {
   "cell_type": "code",
   "execution_count": null,
   "metadata": {
    "colab": {
     "base_uri": "https://localhost:8080/"
    },
    "id": "-EgCbW712uio",
    "outputId": "6c3bb604-b2c2-412a-8481-6ec73c827122"
   },
   "outputs": [
    {
     "name": "stderr",
     "output_type": "stream",
     "text": [
      "/usr/local/lib/python3.10/dist-packages/keras/src/layers/convolutional/base_conv.py:107: UserWarning: Do not pass an `input_shape`/`input_dim` argument to a layer. When using Sequential models, prefer using an `Input(shape)` object as the first layer in the model instead.\n",
      "  super().__init__(activity_regularizer=activity_regularizer, **kwargs)\n"
     ]
    }
   ],
   "source": [
    "# Membangun model CNN\n",
    "model = Sequential([\n",
    "    Conv2D(32, (3, 3), activation='relu', input_shape=(128, 128, 3)),\n",
    "    MaxPooling2D(2, 2),\n",
    "    Conv2D(64, (3, 3), activation='relu'),\n",
    "    MaxPooling2D(2, 2),\n",
    "    Conv2D(128, (3, 3), activation='relu'),\n",
    "    MaxPooling2D(2, 2),\n",
    "    Flatten(),\n",
    "    Dense(128, activation='relu'),\n",
    "    Dropout(0.5),\n",
    "    Dense(train_generator.num_classes, activation='softmax')  # Jumlah kelas sesuai dataset\n",
    "])"
   ]
  },
  {
   "cell_type": "code",
   "execution_count": null,
   "metadata": {
    "id": "00KpdFPV2ycR"
   },
   "outputs": [],
   "source": [
    "# Compile model\n",
    "model.compile(optimizer='adam', loss='categorical_crossentropy', metrics=['accuracy'])"
   ]
  },
  {
   "cell_type": "code",
   "execution_count": null,
   "metadata": {
    "id": "miMenMTH3K_0"
   },
   "outputs": [],
   "source": [
    "# Callback EarlyStopping untuk menghentikan training ketika akurasi training mencapai 95% atau akurasi validasi 80%\n",
    "early_stopping = EarlyStopping(\n",
    "    monitor='val_accuracy',  # Bisa juga diubah ke 'accuracy' untuk training accuracy\n",
    "    patience=3,  # Menunggu 3 epoch jika akurasi tidak meningkat\n",
    "    mode='max',\n",
    "    verbose=1,\n",
    "    restore_best_weights=True\n",
    ")"
   ]
  },
  {
   "cell_type": "code",
   "execution_count": null,
   "metadata": {
    "colab": {
     "base_uri": "https://localhost:8080/"
    },
    "id": "e0-eZg3x3Nfi",
    "outputId": "74beca7f-312a-4b05-d423-1d5c1586b95f"
   },
   "outputs": [
    {
     "name": "stdout",
     "output_type": "stream",
     "text": [
      "Epoch 1/60\n"
     ]
    },
    {
     "name": "stderr",
     "output_type": "stream",
     "text": [
      "/usr/local/lib/python3.10/dist-packages/keras/src/trainers/data_adapters/py_dataset_adapter.py:122: UserWarning: Your `PyDataset` class should call `super().__init__(**kwargs)` in its constructor. `**kwargs` can include `workers`, `use_multiprocessing`, `max_queue_size`. Do not pass these arguments to `fit()`, as they will be ignored.\n",
      "  self._warn_if_super_not_called()\n"
     ]
    },
    {
     "name": "stdout",
     "output_type": "stream",
     "text": [
      "\u001b[1m2197/2197\u001b[0m \u001b[32m━━━━━━━━━━━━━━━━━━━━\u001b[0m\u001b[37m\u001b[0m \u001b[1m441s\u001b[0m 197ms/step - accuracy: 0.1980 - loss: 2.8652 - val_accuracy: 0.5983 - val_loss: 1.3146\n",
      "Epoch 2/60\n",
      "\u001b[1m2197/2197\u001b[0m \u001b[32m━━━━━━━━━━━━━━━━━━━━\u001b[0m\u001b[37m\u001b[0m \u001b[1m371s\u001b[0m 167ms/step - accuracy: 0.5281 - loss: 1.5219 - val_accuracy: 0.7557 - val_loss: 0.7744\n",
      "Epoch 3/60\n",
      "\u001b[1m2197/2197\u001b[0m \u001b[32m━━━━━━━━━━━━━━━━━━━━\u001b[0m\u001b[37m\u001b[0m \u001b[1m383s\u001b[0m 168ms/step - accuracy: 0.6264 - loss: 1.1904 - val_accuracy: 0.8193 - val_loss: 0.5565\n",
      "Epoch 4/60\n",
      "\u001b[1m2197/2197\u001b[0m \u001b[32m━━━━━━━━━━━━━━━━━━━━\u001b[0m\u001b[37m\u001b[0m \u001b[1m369s\u001b[0m 167ms/step - accuracy: 0.6964 - loss: 0.9668 - val_accuracy: 0.7910 - val_loss: 0.6537\n",
      "Epoch 5/60\n",
      "\u001b[1m2197/2197\u001b[0m \u001b[32m━━━━━━━━━━━━━━━━━━━━\u001b[0m\u001b[37m\u001b[0m \u001b[1m366s\u001b[0m 166ms/step - accuracy: 0.7346 - loss: 0.8547 - val_accuracy: 0.8074 - val_loss: 0.6260\n",
      "Epoch 6/60\n",
      "\u001b[1m2197/2197\u001b[0m \u001b[32m━━━━━━━━━━━━━━━━━━━━\u001b[0m\u001b[37m\u001b[0m \u001b[1m366s\u001b[0m 166ms/step - accuracy: 0.7632 - loss: 0.7484 - val_accuracy: 0.8471 - val_loss: 0.4829\n",
      "Epoch 7/60\n",
      "\u001b[1m2197/2197\u001b[0m \u001b[32m━━━━━━━━━━━━━━━━━━━━\u001b[0m\u001b[37m\u001b[0m \u001b[1m384s\u001b[0m 167ms/step - accuracy: 0.7811 - loss: 0.6930 - val_accuracy: 0.9014 - val_loss: 0.3108\n",
      "Epoch 8/60\n",
      "\u001b[1m2197/2197\u001b[0m \u001b[32m━━━━━━━━━━━━━━━━━━━━\u001b[0m\u001b[37m\u001b[0m \u001b[1m367s\u001b[0m 167ms/step - accuracy: 0.8020 - loss: 0.6285 - val_accuracy: 0.8232 - val_loss: 0.5772\n",
      "Epoch 9/60\n",
      "\u001b[1m2197/2197\u001b[0m \u001b[32m━━━━━━━━━━━━━━━━━━━━\u001b[0m\u001b[37m\u001b[0m \u001b[1m384s\u001b[0m 167ms/step - accuracy: 0.8139 - loss: 0.5881 - val_accuracy: 0.8346 - val_loss: 0.5782\n",
      "Epoch 10/60\n",
      "\u001b[1m2197/2197\u001b[0m \u001b[32m━━━━━━━━━━━━━━━━━━━━\u001b[0m\u001b[37m\u001b[0m \u001b[1m386s\u001b[0m 169ms/step - accuracy: 0.8262 - loss: 0.5497 - val_accuracy: 0.9041 - val_loss: 0.3037\n",
      "Epoch 11/60\n",
      "\u001b[1m2197/2197\u001b[0m \u001b[32m━━━━━━━━━━━━━━━━━━━━\u001b[0m\u001b[37m\u001b[0m \u001b[1m381s\u001b[0m 169ms/step - accuracy: 0.8327 - loss: 0.5306 - val_accuracy: 0.8814 - val_loss: 0.3826\n",
      "Epoch 12/60\n",
      "\u001b[1m2197/2197\u001b[0m \u001b[32m━━━━━━━━━━━━━━━━━━━━\u001b[0m\u001b[37m\u001b[0m \u001b[1m378s\u001b[0m 167ms/step - accuracy: 0.8444 - loss: 0.4935 - val_accuracy: 0.8772 - val_loss: 0.3927\n",
      "Epoch 13/60\n",
      "\u001b[1m2197/2197\u001b[0m \u001b[32m━━━━━━━━━━━━━━━━━━━━\u001b[0m\u001b[37m\u001b[0m \u001b[1m371s\u001b[0m 168ms/step - accuracy: 0.8498 - loss: 0.4773 - val_accuracy: 0.9109 - val_loss: 0.2761\n",
      "Epoch 14/60\n",
      "\u001b[1m2197/2197\u001b[0m \u001b[32m━━━━━━━━━━━━━━━━━━━━\u001b[0m\u001b[37m\u001b[0m \u001b[1m369s\u001b[0m 167ms/step - accuracy: 0.8571 - loss: 0.4609 - val_accuracy: 0.9096 - val_loss: 0.3187\n",
      "Epoch 15/60\n",
      "\u001b[1m2197/2197\u001b[0m \u001b[32m━━━━━━━━━━━━━━━━━━━━\u001b[0m\u001b[37m\u001b[0m \u001b[1m369s\u001b[0m 168ms/step - accuracy: 0.8623 - loss: 0.4405 - val_accuracy: 0.8877 - val_loss: 0.3857\n",
      "Epoch 16/60\n",
      "\u001b[1m2197/2197\u001b[0m \u001b[32m━━━━━━━━━━━━━━━━━━━━\u001b[0m\u001b[37m\u001b[0m \u001b[1m371s\u001b[0m 169ms/step - accuracy: 0.8651 - loss: 0.4328 - val_accuracy: 0.9274 - val_loss: 0.2421\n",
      "Epoch 17/60\n",
      "\u001b[1m2197/2197\u001b[0m \u001b[32m━━━━━━━━━━━━━━━━━━━━\u001b[0m\u001b[37m\u001b[0m \u001b[1m380s\u001b[0m 168ms/step - accuracy: 0.8725 - loss: 0.4134 - val_accuracy: 0.8948 - val_loss: 0.3534\n",
      "Epoch 18/60\n",
      "\u001b[1m2197/2197\u001b[0m \u001b[32m━━━━━━━━━━━━━━━━━━━━\u001b[0m\u001b[37m\u001b[0m \u001b[1m381s\u001b[0m 167ms/step - accuracy: 0.8728 - loss: 0.4105 - val_accuracy: 0.9365 - val_loss: 0.2039\n",
      "Epoch 19/60\n",
      "\u001b[1m2197/2197\u001b[0m \u001b[32m━━━━━━━━━━━━━━━━━━━━\u001b[0m\u001b[37m\u001b[0m \u001b[1m383s\u001b[0m 168ms/step - accuracy: 0.8815 - loss: 0.3846 - val_accuracy: 0.9148 - val_loss: 0.2968\n",
      "Epoch 20/60\n",
      "\u001b[1m2197/2197\u001b[0m \u001b[32m━━━━━━━━━━━━━━━━━━━━\u001b[0m\u001b[37m\u001b[0m \u001b[1m380s\u001b[0m 167ms/step - accuracy: 0.8820 - loss: 0.3772 - val_accuracy: 0.9295 - val_loss: 0.2411\n",
      "Epoch 21/60\n",
      "\u001b[1m2197/2197\u001b[0m \u001b[32m━━━━━━━━━━━━━━━━━━━━\u001b[0m\u001b[37m\u001b[0m \u001b[1m390s\u001b[0m 171ms/step - accuracy: 0.8836 - loss: 0.3722 - val_accuracy: 0.9270 - val_loss: 0.2364\n",
      "Epoch 21: early stopping\n",
      "Restoring model weights from the end of the best epoch: 18.\n"
     ]
    }
   ],
   "source": [
    "history = model.fit(\n",
    "    train_generator,\n",
    "    validation_data=validation_generator,\n",
    "    epochs=60,\n",
    "    callbacks=[early_stopping]\n",
    ")"
   ]
  },
  {
   "cell_type": "code",
   "execution_count": null,
   "metadata": {
    "colab": {
     "base_uri": "https://localhost:8080/",
     "height": 472
    },
    "id": "PsEDfRPc0n6X",
    "outputId": "a005855c-94c4-4b07-b202-b040c2a2c5a9"
   },
   "outputs": [
    {
     "data": {
      "image/png": "[encoded data removed]",
      "text/plain": [
       "<Figure size 640x480 with 1 Axes>"
      ]
     },
     "metadata": {},
     "output_type": "display_data"
    }
   ],
   "source": [
    "import matplotlib.pyplot as plt\n",
    "\n",
    "# Plot akurasi\n",
    "plt.plot(history.history['accuracy'], label='Training Accuracy')\n",
    "plt.plot(history.history['val_accuracy'], label='Validation Accuracy')\n",
    "plt.xlabel('Epoch')\n",
    "plt.ylabel('Accuracy')\n",
    "plt.title('Training and Validation Accuracy')\n",
    "plt.legend()\n",
    "plt.grid()\n",
    "plt.show()\n"
   ]
  },
  {
   "cell_type": "code",
   "execution_count": null,
   "metadata": {
    "colab": {
     "base_uri": "https://localhost:8080/"
    },
    "id": "ifwzpw8j3QoG",
    "outputId": "892f69b3-4171-4cda-cf96-735286e05ab7"
   },
   "outputs": [
    {
     "name": "stderr",
     "output_type": "stream",
     "text": [
      "WARNING:absl:You are saving your model as an HDF5 file via `model.save()` or `keras.saving.save_model(model)`. This file format is considered legacy. We recommend using instead the native Keras format, e.g. `model.save('my_model.keras')` or `keras.saving.save_model(model, 'my_model.keras')`. \n"
     ]
    }
   ],
   "source": [
    "# Simpan model\n",
    "model.save('CekTandur_Model.h5')"
   ]
  },
  {
   "cell_type": "code",
   "execution_count": null,
   "metadata": {
    "colab": {
     "base_uri": "https://localhost:8080/"
    },
    "collapsed": true,
    "id": "sOrCzCGCNHti",
    "jupyter": {
     "outputs_hidden": true
    },
    "outputId": "b9329dfe-696e-4e1c-9b1f-6136315fafc3"
   },
   "outputs": [
    {
     "name": "stderr",
     "output_type": "stream",
     "text": [
      "WARNING:absl:Compiled the loaded model, but the compiled metrics have yet to be built. `model.compile_metrics` will be empty until you train or evaluate the model.\n"
     ]
    },
    {
     "name": "stdout",
     "output_type": "stream",
     "text": [
      "\u001b[1m1/1\u001b[0m \u001b[32m━━━━━━━━━━━━━━━━━━━━\u001b[0m\u001b[37m\u001b[0m \u001b[1m1s\u001b[0m 693ms/step\n",
      "Gambar: PotatoEarlyBlight2.JPG\n",
      "  Prediksi: Potato___Early_blight\n",
      "  Probabilitas: 1.00\n",
      "----\n",
      "\u001b[1m1/1\u001b[0m \u001b[32m━━━━━━━━━━━━━━━━━━━━\u001b[0m\u001b[37m\u001b[0m \u001b[1m0s\u001b[0m 20ms/step\n",
      "Gambar: TomatoEarlyBlight2.JPG\n",
      "  Prediksi: Tomato___Late_blight\n",
      "  Probabilitas: 0.50\n",
      "----\n",
      "\u001b[1m1/1\u001b[0m \u001b[32m━━━━━━━━━━━━━━━━━━━━\u001b[0m\u001b[37m\u001b[0m \u001b[1m0s\u001b[0m 22ms/step\n",
      "Gambar: AppleScab3.JPG\n",
      "  Prediksi: Potato___Early_blight\n",
      "  Probabilitas: 1.00\n",
      "----\n",
      "\u001b[1m1/1\u001b[0m \u001b[32m━━━━━━━━━━━━━━━━━━━━\u001b[0m\u001b[37m\u001b[0m \u001b[1m0s\u001b[0m 20ms/step\n",
      "Gambar: TomatoYellowCurlVirus3.JPG\n",
      "  Prediksi: Tomato___Tomato_Yellow_Leaf_Curl_Virus\n",
      "  Probabilitas: 1.00\n",
      "----\n",
      "\u001b[1m1/1\u001b[0m \u001b[32m━━━━━━━━━━━━━━━━━━━━\u001b[0m\u001b[37m\u001b[0m \u001b[1m0s\u001b[0m 21ms/step\n",
      "Gambar: PotatoEarlyBlight1.JPG\n",
      "  Prediksi: Potato___Early_blight\n",
      "  Probabilitas: 1.00\n",
      "----\n",
      "\u001b[1m1/1\u001b[0m \u001b[32m━━━━━━━━━━━━━━━━━━━━\u001b[0m\u001b[37m\u001b[0m \u001b[1m0s\u001b[0m 19ms/step\n",
      "Gambar: CornCommonRust2.JPG\n",
      "  Prediksi: Corn_(maize)___Common_rust_\n",
      "  Probabilitas: 1.00\n",
      "----\n",
      "\u001b[1m1/1\u001b[0m \u001b[32m━━━━━━━━━━━━━━━━━━━━\u001b[0m\u001b[37m\u001b[0m \u001b[1m0s\u001b[0m 39ms/step\n",
      "Gambar: AppleScab2.JPG\n",
      "  Prediksi: Apple___Apple_scab\n",
      "  Probabilitas: 0.99\n",
      "----\n",
      "\u001b[1m1/1\u001b[0m \u001b[32m━━━━━━━━━━━━━━━━━━━━\u001b[0m\u001b[37m\u001b[0m \u001b[1m0s\u001b[0m 38ms/step\n",
      "Gambar: TomatoHealthy2.JPG\n",
      "  Prediksi: Tomato___healthy\n",
      "  Probabilitas: 1.00\n",
      "----\n",
      "\u001b[1m1/1\u001b[0m \u001b[32m━━━━━━━━━━━━━━━━━━━━\u001b[0m\u001b[37m\u001b[0m \u001b[1m0s\u001b[0m 30ms/step\n",
      "Gambar: TomatoEarlyBlight5.JPG\n",
      "  Prediksi: Tomato___Early_blight\n",
      "  Probabilitas: 1.00\n",
      "----\n",
      "\u001b[1m1/1\u001b[0m \u001b[32m━━━━━━━━━━━━━━━━━━━━\u001b[0m\u001b[37m\u001b[0m \u001b[1m0s\u001b[0m 33ms/step\n",
      "Gambar: TomatoEarlyBlight1.JPG\n",
      "  Prediksi: Tomato___Early_blight\n",
      "  Probabilitas: 0.86\n",
      "----\n",
      "\u001b[1m1/1\u001b[0m \u001b[32m━━━━━━━━━━━━━━━━━━━━\u001b[0m\u001b[37m\u001b[0m \u001b[1m0s\u001b[0m 17ms/step\n",
      "Gambar: TomatoYellowCurlVirus2.JPG\n",
      "  Prediksi: Tomato___Tomato_Yellow_Leaf_Curl_Virus\n",
      "  Probabilitas: 1.00\n",
      "----\n",
      "\u001b[1m1/1\u001b[0m \u001b[32m━━━━━━━━━━━━━━━━━━━━\u001b[0m\u001b[37m\u001b[0m \u001b[1m0s\u001b[0m 17ms/step\n",
      "Gambar: CornCommonRust1.JPG\n",
      "  Prediksi: Corn_(maize)___Common_rust_\n",
      "  Probabilitas: 1.00\n",
      "----\n",
      "\u001b[1m1/1\u001b[0m \u001b[32m━━━━━━━━━━━━━━━━━━━━\u001b[0m\u001b[37m\u001b[0m \u001b[1m0s\u001b[0m 25ms/step\n",
      "Gambar: PotatoEarlyBlight5.JPG\n",
      "  Prediksi: Potato___Early_blight\n",
      "  Probabilitas: 1.00\n",
      "----\n",
      "\u001b[1m1/1\u001b[0m \u001b[32m━━━━━━━━━━━━━━━━━━━━\u001b[0m\u001b[37m\u001b[0m \u001b[1m0s\u001b[0m 18ms/step\n",
      "Gambar: PotatoEarlyBlight3.JPG\n",
      "  Prediksi: Potato___healthy\n",
      "  Probabilitas: 0.80\n",
      "----\n",
      "\u001b[1m1/1\u001b[0m \u001b[32m━━━━━━━━━━━━━━━━━━━━\u001b[0m\u001b[37m\u001b[0m \u001b[1m0s\u001b[0m 18ms/step\n",
      "Gambar: TomatoHealthy4.JPG\n",
      "  Prediksi: Tomato___healthy\n",
      "  Probabilitas: 1.00\n",
      "----\n",
      "\u001b[1m1/1\u001b[0m \u001b[32m━━━━━━━━━━━━━━━━━━━━\u001b[0m\u001b[37m\u001b[0m \u001b[1m0s\u001b[0m 18ms/step\n",
      "Gambar: AppleCedarRust4.JPG\n",
      "  Prediksi: Apple___Cedar_apple_rust\n",
      "  Probabilitas: 1.00\n",
      "----\n",
      "\u001b[1m1/1\u001b[0m \u001b[32m━━━━━━━━━━━━━━━━━━━━\u001b[0m\u001b[37m\u001b[0m \u001b[1m0s\u001b[0m 19ms/step\n",
      "Gambar: TomatoYellowCurlVirus6.JPG\n",
      "  Prediksi: Tomato___Tomato_Yellow_Leaf_Curl_Virus\n",
      "  Probabilitas: 1.00\n",
      "----\n",
      "\u001b[1m1/1\u001b[0m \u001b[32m━━━━━━━━━━━━━━━━━━━━\u001b[0m\u001b[37m\u001b[0m \u001b[1m0s\u001b[0m 17ms/step\n",
      "Gambar: CornCommonRust3.JPG\n",
      "  Prediksi: Corn_(maize)___Common_rust_\n",
      "  Probabilitas: 1.00\n",
      "----\n",
      "\u001b[1m1/1\u001b[0m \u001b[32m━━━━━━━━━━━━━━━━━━━━\u001b[0m\u001b[37m\u001b[0m \u001b[1m0s\u001b[0m 16ms/step\n",
      "Gambar: TomatoYellowCurlVirus5.JPG\n",
      "  Prediksi: Tomato___Tomato_Yellow_Leaf_Curl_Virus\n",
      "  Probabilitas: 1.00\n",
      "----\n",
      "\u001b[1m1/1\u001b[0m \u001b[32m━━━━━━━━━━━━━━━━━━━━\u001b[0m\u001b[37m\u001b[0m \u001b[1m0s\u001b[0m 17ms/step\n",
      "Gambar: TomatoYellowCurlVirus4.JPG\n",
      "  Prediksi: Tomato___Tomato_Yellow_Leaf_Curl_Virus\n",
      "  Probabilitas: 1.00\n",
      "----\n",
      "\u001b[1m1/1\u001b[0m \u001b[32m━━━━━━━━━━━━━━━━━━━━\u001b[0m\u001b[37m\u001b[0m \u001b[1m0s\u001b[0m 16ms/step\n",
      "Gambar: AppleCedarRust1.JPG\n",
      "  Prediksi: Apple___Cedar_apple_rust\n",
      "  Probabilitas: 1.00\n",
      "----\n",
      "\u001b[1m1/1\u001b[0m \u001b[32m━━━━━━━━━━━━━━━━━━━━\u001b[0m\u001b[37m\u001b[0m \u001b[1m0s\u001b[0m 16ms/step\n",
      "Gambar: AppleCedarRust2.JPG\n",
      "  Prediksi: Apple___Cedar_apple_rust\n",
      "  Probabilitas: 1.00\n",
      "----\n",
      "\u001b[1m1/1\u001b[0m \u001b[32m━━━━━━━━━━━━━━━━━━━━\u001b[0m\u001b[37m\u001b[0m \u001b[1m0s\u001b[0m 16ms/step\n",
      "Gambar: PotatoEarlyBlight4.JPG\n",
      "  Prediksi: Potato___Early_blight\n",
      "  Probabilitas: 1.00\n",
      "----\n",
      "\u001b[1m1/1\u001b[0m \u001b[32m━━━━━━━━━━━━━━━━━━━━\u001b[0m\u001b[37m\u001b[0m \u001b[1m0s\u001b[0m 16ms/step\n",
      "Gambar: PotatoHealthy2.JPG\n",
      "  Prediksi: Potato___healthy\n",
      "  Probabilitas: 0.99\n",
      "----\n",
      "\u001b[1m1/1\u001b[0m \u001b[32m━━━━━━━━━━━━━━━━━━━━\u001b[0m\u001b[37m\u001b[0m \u001b[1m0s\u001b[0m 17ms/step\n",
      "Gambar: TomatoEarlyBlight4.JPG\n",
      "  Prediksi: Tomato___Early_blight\n",
      "  Probabilitas: 0.99\n",
      "----\n",
      "\u001b[1m1/1\u001b[0m \u001b[32m━━━━━━━━━━━━━━━━━━━━\u001b[0m\u001b[37m\u001b[0m \u001b[1m0s\u001b[0m 16ms/step\n",
      "Gambar: TomatoEarlyBlight3.JPG\n",
      "  Prediksi: Tomato___Early_blight\n",
      "  Probabilitas: 0.60\n",
      "----\n",
      "\u001b[1m1/1\u001b[0m \u001b[32m━━━━━━━━━━━━━━━━━━━━\u001b[0m\u001b[37m\u001b[0m \u001b[1m0s\u001b[0m 17ms/step\n",
      "Gambar: AppleScab1.JPG\n",
      "  Prediksi: Apple___Apple_scab\n",
      "  Probabilitas: 0.75\n",
      "----\n",
      "\u001b[1m1/1\u001b[0m \u001b[32m━━━━━━━━━━━━━━━━━━━━\u001b[0m\u001b[37m\u001b[0m \u001b[1m0s\u001b[0m 17ms/step\n",
      "Gambar: TomatoEarlyBlight6.JPG\n",
      "  Prediksi: Tomato___Early_blight\n",
      "  Probabilitas: 0.54\n",
      "----\n",
      "\u001b[1m1/1\u001b[0m \u001b[32m━━━━━━━━━━━━━━━━━━━━\u001b[0m\u001b[37m\u001b[0m \u001b[1m0s\u001b[0m 18ms/step\n",
      "Gambar: TomatoYellowCurlVirus1.JPG\n",
      "  Prediksi: Tomato___Tomato_Yellow_Leaf_Curl_Virus\n",
      "  Probabilitas: 1.00\n",
      "----\n",
      "\u001b[1m1/1\u001b[0m \u001b[32m━━━━━━━━━━━━━━━━━━━━\u001b[0m\u001b[37m\u001b[0m \u001b[1m0s\u001b[0m 20ms/step\n",
      "Gambar: AppleCedarRust3.JPG\n",
      "  Prediksi: Apple___Cedar_apple_rust\n",
      "  Probabilitas: 1.00\n",
      "----\n",
      "\u001b[1m1/1\u001b[0m \u001b[32m━━━━━━━━━━━━━━━━━━━━\u001b[0m\u001b[37m\u001b[0m \u001b[1m0s\u001b[0m 21ms/step\n",
      "Gambar: TomatoHealthy1.JPG\n",
      "  Prediksi: Tomato___healthy\n",
      "  Probabilitas: 1.00\n",
      "----\n",
      "\u001b[1m1/1\u001b[0m \u001b[32m━━━━━━━━━━━━━━━━━━━━\u001b[0m\u001b[37m\u001b[0m \u001b[1m0s\u001b[0m 24ms/step\n",
      "Gambar: TomatoHealthy3.JPG\n",
      "  Prediksi: Tomato___healthy\n",
      "  Probabilitas: 1.00\n",
      "----\n",
      "\u001b[1m1/1\u001b[0m \u001b[32m━━━━━━━━━━━━━━━━━━━━\u001b[0m\u001b[37m\u001b[0m \u001b[1m0s\u001b[0m 23ms/step\n",
      "Gambar: PotatoHealthy1.JPG\n",
      "  Prediksi: Potato___healthy\n",
      "  Probabilitas: 0.99\n",
      "----\n"
     ]
    }
   ],
   "source": [
    "import os\n",
    "import numpy as np\n",
    "from tensorflow.keras.preprocessing.image import load_img, img_to_array\n",
    "import tensorflow as tf\n",
    "\n",
    "# Path ke direktori test\n",
    "test_dir = 'extracted_data/test'\n",
    "\n",
    "# Load model\n",
    "model = tf.keras.models.load_model('CekTandur_Model.h5')\n",
    "\n",
    "# Mendapatkan label kelas dari model\n",
    "class_indices = train_generator.class_indices  # Mengambil mapping dari train_generator\n",
    "class_labels = {v: k for k, v in class_indices.items()}  # Membalik mapping menjadi indeks ke nama kelas\n",
    "\n",
    "# Menyiapkan gambar untuk prediksi\n",
    "def preprocess_image(image_path, target_size=(128, 128)):\n",
    "    img = load_img(image_path, target_size=target_size)  # Load gambar\n",
    "    img_array = img_to_array(img)  # Konversi ke array\n",
    "    img_array = np.expand_dims(img_array, axis=0)  # Tambahkan dimensi batch\n",
    "    img_array = img_array / 255.0  # Rescale\n",
    "    return img_array\n",
    "\n",
    "# Melakukan prediksi untuk setiap gambar\n",
    "for file_name in os.listdir(test_dir):\n",
    "    file_path = os.path.join(test_dir, file_name)\n",
    "    if os.path.isfile(file_path):\n",
    "        # Preprocessing gambar\n",
    "        img_array = preprocess_image(file_path)\n",
    "\n",
    "        # Prediksi\n",
    "        prediction = model.predict(img_array)\n",
    "        predicted_class = np.argmax(prediction, axis=1)[0]\n",
    "        predicted_label = class_labels[predicted_class]\n",
    "\n",
    "        # Tampilkan hasil\n",
    "        print(f\"Gambar: {file_name}\")\n",
    "        print(f\"  Prediksi: {predicted_label}\")\n",
    "        print(f\"  Probabilitas: {prediction[0][predicted_class]:.2f}\")\n",
    "        print(\"----\")\n"
   ]
  },
  {
   "cell_type": "code",
   "execution_count": null,
   "metadata": {
    "id": "lMwnGQChR_9o"
   },
   "outputs": [],
   "source": []
  }
 ],
 "metadata": {
  "accelerator": "GPU",
  "colab": {
   "gpuType": "T4",
   "provenance": []
  },
  "kernelspec": {
   "display_name": "Python 3 (ipykernel)",
   "language": "python",
   "name": "python3"
  },
  "language_info": {
   "codemirror_mode": {
    "name": "ipython",
    "version": 3
   },
   "file_extension": ".py",
   "mimetype": "text/x-python",
   "name": "python",
   "nbconvert_exporter": "python",
   "pygments_lexer": "ipython3",
   "version": "3.9.18"
  }
 },
 "nbformat": 4,
 "nbformat_minor": 4
}
